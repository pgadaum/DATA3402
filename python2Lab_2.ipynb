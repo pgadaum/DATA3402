{
  "cells": [
    {
      "cell_type": "markdown",
      "metadata": {
        "id": "eGNtIbQX45XL"
      },
      "source": [
        "## Lab 2- Tic Tac Toe\n",
        "\n",
        "In this lab your will build a n x n Tic Tac Toe game. As you do the exercises, make sure your solutions work for any size Tic Tac Toe game."
      ]
    },
    {
      "cell_type": "markdown",
      "metadata": {
        "id": "or38nhCh45XP"
      },
      "source": [
        "*Exercise 1:* Write a function that creates an n by n matrix (of list of lists) which will represent the state of a Tie Tac Toe game. Let 0, 1, and 2 represent empty, \"X\", and \"O\", respectively.\n"
      ]
    },
    {
      "cell_type": "code",
      "execution_count": 2,
      "metadata": {
        "collapsed": true,
        "id": "MiA9sAOi45XR"
      },
      "outputs": [],
      "source": [
        "# Write you solution here\n",
        "player_1 = \"X\"\n",
        "player_2 = \"O\"\n",
        "empty = 0"
      ]
    },
    {
      "cell_type": "code",
      "execution_count": 3,
      "metadata": {
        "collapsed": true,
        "id": "SYri_Wp545XS"
      },
      "outputs": [],
      "source": [
        "# Test your solution here\n",
        "player_1 = \"X\"\n",
        "player_2 = \"O\"\n",
        "empty = 0"
      ]
    },
    {
      "cell_type": "markdown",
      "metadata": {
        "id": "PaTmg4cz45XT"
      },
      "source": [
        "*Exercise 2:* Write a function that takes 2 integers `n` and `m` as input and draws a `n` by `m` game board. For example the following is a 3x3 board:\n",
        "```\n",
        "   --- --- ---\n",
        "  |   |   |   |\n",
        "   --- --- ---  \n",
        "  |   |   |   |\n",
        "   --- --- ---  \n",
        "  |   |   |   |\n",
        "   --- --- ---\n",
        "   ```"
      ]
    },
    {
      "cell_type": "code",
      "execution_count": 4,
      "metadata": {
        "collapsed": true,
        "id": "orNZesj045XT"
      },
      "outputs": [],
      "source": [
        "# Write you solution here\n",
        "n = 3\n",
        "m = 3\n",
        "land = list()\n",
        "for i in range(n):\n",
        "    row = list()\n",
        "    for j in range(m):\n",
        "        row.append(empty)\n",
        "\n",
        "    land.append(row)\n",
        "\n",
        "def create_game_board():\n",
        "    for i in range(n):\n",
        "        print(\"\\n\", end=\"\")\n",
        "        print(\" ---\" * m)\n",
        "        print(\"|\", end=\"\")\n",
        "        for j in range(m):\n",
        "            print(\"\",land[i][j], end= \" |\" )\n",
        "    print(\"\\n\", end=\"\")\n",
        "    print(\" ---\" * m)"
      ]
    },
    {
      "cell_type": "code",
      "execution_count": 5,
      "metadata": {
        "collapsed": true,
        "colab": {
          "base_uri": "https://localhost:8080/"
        },
        "id": "5oFLVVKv45XU",
        "outputId": "7cf90fc9-c695-42a8-f27c-d73b17f33f75"
      },
      "outputs": [
        {
          "output_type": "stream",
          "name": "stdout",
          "text": [
            "\n",
            " --- --- ---\n",
            "| 0 | 0 | 0 |\n",
            " --- --- ---\n",
            "| 0 | 0 | 0 |\n",
            " --- --- ---\n",
            "| 0 | 0 | 0 |\n",
            " --- --- ---\n"
          ]
        }
      ],
      "source": [
        "# Test your solution here\n",
        "board_0 = create_game_board()"
      ]
    },
    {
      "cell_type": "markdown",
      "metadata": {
        "id": "S-Kpoq3x45XV"
      },
      "source": [
        "*Exercise 3:* Modify exercise 2, so that it takes a matrix of the form from exercise 1 and draws a tic-tac-tie board with \"X\"s and \"O\"s.  "
      ]
    },
    {
      "cell_type": "code",
      "execution_count": 13,
      "metadata": {
        "collapsed": true,
        "id": "Rw38k0QQ45XV"
      },
      "outputs": [],
      "source": [
        "# Write you solution here\n",
        "n = 3\n",
        "m = 3\n",
        "land = list()\n",
        "for i in range(n):\n",
        "    row = list()\n",
        "    for j in range(m):\n",
        "        row.append(empty)\n",
        "\n",
        "    land.append(row)\n",
        "\n",
        "pieces = 0\n",
        "\n",
        "for a in range(n):\n",
        "    for b in range(m):\n",
        "        if pieces:\n",
        "            land[a][b]=\"X\"\n",
        "            pieces-= 1\n",
        "        else:\n",
        "            land[a][b]=\"O\"\n",
        "            pieces+= 1\n",
        "\n",
        "\n",
        "def create_game_board():\n",
        "    for i in range(n):\n",
        "        print(\"\\n\", end=\"\")\n",
        "        print(\" ---\" * m)\n",
        "        print(\"|\", end=\"\")\n",
        "        for j in range(m):\n",
        "            print(\"\",land[i][j], end= \" |\" )\n",
        "    print(\"\\n\", end=\"\")\n",
        "    print(\" ---\" * m)\n"
      ]
    },
    {
      "cell_type": "code",
      "execution_count": 14,
      "metadata": {
        "collapsed": true,
        "id": "91fB6iEo45XW",
        "colab": {
          "base_uri": "https://localhost:8080/"
        },
        "outputId": "59c0c492-226a-4b25-b4f4-69f67d6053d5"
      },
      "outputs": [
        {
          "output_type": "stream",
          "name": "stdout",
          "text": [
            "\n",
            " --- --- ---\n",
            "| O | X | O |\n",
            " --- --- ---\n",
            "| X | O | X |\n",
            " --- --- ---\n",
            "| O | X | O |\n",
            " --- --- ---\n"
          ]
        }
      ],
      "source": [
        "# Test your solution here\n",
        "board_0 = create_game_board()"
      ]
    },
    {
      "cell_type": "markdown",
      "metadata": {
        "id": "_vznE7cg45XX"
      },
      "source": [
        "*Exercise 4:* Write a function that takes a `n` by `n` matrix representing a tic-tac-toe game, and returns -1, 0, 1, or 2 indicating the game is incomplete, the game is a draw, player 1 has won, or player 2 has one, respectively. Here are some example inputs you can use to test your code:"
      ]
    },
    {
      "cell_type": "code",
      "execution_count": 15,
      "metadata": {
        "collapsed": true,
        "id": "eIg9Imlq45XX"
      },
      "outputs": [],
      "source": [
        "# Write you solution here\n",
        "n = 3\n",
        "land = list()\n",
        "for i in range(n):\n",
        "    row = list()\n",
        "    for j in range(n):\n",
        "        row.append(empty)\n",
        "\n",
        "    land.append(row)\n",
        "\n",
        "winner_is_2 = [[\"O\", \"O\", \" \"],\n",
        "\t[\"O\", \"X\", \" \"],\n",
        "\t[\"O\", \"X\", \"X\"]]\n",
        "\n",
        "winner_is_1 = [[\"X\", \"O\", \"O\"],\n",
        "\t[\"O\", \"X\", \"O\"],\n",
        "\t[\"O\", \" \", \"X\"]]\n",
        "\n",
        "winner_is_also_1 = [[\"X\", \"X\", \" \"],\n",
        "\t[\"O\", \"X\", \" \"],\n",
        "\t[\"O\", \"X\", \"O\"]]\n",
        "\n",
        "no_winner = [[\"X\", \"O\", \" \"],\n",
        "\t[\"O\", \"X\", \" \"],\n",
        "\t[\"O\", \"X\", \"O\"]]\n",
        "\n",
        "also_no_winner = [[\"X\", \"O\", \" \"],\n",
        "\t[\"O\", \"X\", \" \"],\n",
        "\t[\"O\", \"X\", \" \"]]\n",
        "\n",
        "\n",
        "def create_game_board(mine):\n",
        "    for i in range(n):\n",
        "        print(\"\\n\", end=\"\")\n",
        "        print(\" ---\" * n)\n",
        "        print(\"|\", end=\"\")\n",
        "        for j in range(n):\n",
        "            print(\"\",mine[i][j], end= \" |\" )\n",
        "    print(\"\\n\", end=\"\")\n",
        "    print(\" ---\" * n)\n"
      ]
    },
    {
      "cell_type": "code",
      "execution_count": 16,
      "metadata": {
        "collapsed": true,
        "id": "CUovjsun45XY",
        "colab": {
          "base_uri": "https://localhost:8080/"
        },
        "outputId": "e68217fa-5171-4b5f-bee4-1899e0ba1ca8"
      },
      "outputs": [
        {
          "output_type": "stream",
          "name": "stdout",
          "text": [
            "\n",
            " --- --- ---\n",
            "| X | O |   |\n",
            " --- --- ---\n",
            "| O | X |   |\n",
            " --- --- ---\n",
            "| O | X |   |\n",
            " --- --- ---\n"
          ]
        }
      ],
      "source": [
        "# Test your solution here\n",
        "board_0 = create_game_board(also_no_winner)"
      ]
    },
    {
      "cell_type": "code",
      "execution_count": 17,
      "metadata": {
        "collapsed": true,
        "id": "KRQzlx4q45XY"
      },
      "outputs": [],
      "source": [
        "winner_is_2 = [[2, 2, 0],\n",
        "\t[2, 1, 0],\n",
        "\t[2, 1, 1]]\n",
        "\n",
        "winner_is_1 = [[1, 2, 0],\n",
        "\t[2, 1, 0],\n",
        "\t[2, 1, 1]]\n",
        "\n",
        "winner_is_also_1 = [[0, 1, 0],\n",
        "\t[2, 1, 0],\n",
        "\t[2, 1, 1]]\n",
        "\n",
        "no_winner = [[1, 2, 0],\n",
        "\t[2, 1, 0],\n",
        "\t[2, 1, 2]]\n",
        "\n",
        "also_no_winner = [[1, 2, 0],\n",
        "\t[2, 1, 0],\n",
        "\t[2, 1, 0]]"
      ]
    },
    {
      "cell_type": "markdown",
      "metadata": {
        "id": "u55XLdai45XY"
      },
      "source": [
        "*Exercise 5:* Write a function that takes a game board, player number, and `(x,y)` coordinates and places \"X\" or \"O\" in the correct location of the game board. Make sure that you only allow filling previously empty locations. Return `True` or `False` to indicate successful placement of \"X\" or \"O\"."
      ]
    },
    {
      "cell_type": "code",
      "execution_count": 18,
      "metadata": {
        "collapsed": true,
        "id": "kgFgV5VG45XY"
      },
      "outputs": [],
      "source": [
        "n = 3\n",
        "land = list()\n",
        "for i in range(n):\n",
        "    row = list()\n",
        "    for j in range(n):\n",
        "        row.append(empty)\n",
        "\n",
        "    land.append(row)\n",
        "\n",
        "land = [[\" \", \"O\", \" \"],\n",
        "\t[\"O\", \"X\", \" \"],\n",
        "\t[\"O\", \"X\", \"X\"]]\n",
        "\n",
        "player = 1\n",
        "\n",
        "def create_game_board(mine,next_player,x,y):\n",
        "    x -= 1\n",
        "    y -= 1\n",
        "    print(\"Player\", next_player, \"turn:\")\n",
        "    if land[x][y]==\" \":\n",
        "        my_turn = True\n",
        "        land[x][y] = \"O\"\n",
        "    else:\n",
        "        my_turn = False\n",
        "    for i in range(n):\n",
        "        print(\"\\n\", end=\"\")\n",
        "        print(\" ---\" * n)\n",
        "        print(\"|\", end=\"\")\n",
        "        for j in range(n):\n",
        "            print(\"\",mine[i][j], end= \" |\" )\n",
        "    print(\"\\n\", end=\"\")\n",
        "    print(\" ---\" * n)\n",
        "    if my_turn:\n",
        "        print(\"Successful turn\")\n",
        "    else:\n",
        "        print(\"Invalid move\")\n",
        "    return(my_turn)"
      ]
    },
    {
      "cell_type": "code",
      "execution_count": 19,
      "metadata": {
        "collapsed": true,
        "colab": {
          "base_uri": "https://localhost:8080/"
        },
        "id": "IEgLRlKS45XY",
        "outputId": "2e3ab052-9c96-43d6-8bfb-9301d48e4173"
      },
      "outputs": [
        {
          "output_type": "stream",
          "name": "stdout",
          "text": [
            "Player 1 turn:\n",
            "\n",
            " --- --- ---\n",
            "| O | O |   |\n",
            " --- --- ---\n",
            "| O | X |   |\n",
            " --- --- ---\n",
            "| O | X | X |\n",
            " --- --- ---\n",
            "Successful turn\n"
          ]
        }
      ],
      "source": [
        "board_0 = create_game_board(land,player, 1,1)"
      ]
    },
    {
      "cell_type": "markdown",
      "metadata": {
        "id": "mDUAxjLM45XZ"
      },
      "source": [
        "*Exercise 6:* Modify Exercise 4 to show column and row labels so that players can specify location using \"A2\" or \"C1\"."
      ]
    },
    {
      "cell_type": "code",
      "execution_count": 20,
      "metadata": {
        "collapsed": true,
        "id": "gIrAIKQf45XZ"
      },
      "outputs": [],
      "source": [
        "n = 3\n",
        "board = list()\n",
        "for i in range(n):\n",
        "    row = list()\n",
        "    for j in range(n):\n",
        "        row.append(empty)\n",
        "\n",
        "    board.append(row)\n",
        "\n",
        "winner_is_2 = [[\"O\", \"O\", \" \"],\n",
        "\t[\"O\", \"X\", \" \"],\n",
        "\t[\"O\", \"X\", \"X\"]]\n",
        "\n",
        "winner_is_1 = [[\"X\", \"O\", \"O\"],\n",
        "\t[\"O\", \"X\", \"O\"],\n",
        "\t[\"O\", \" \", \"X\"]]\n",
        "\n",
        "winner_is_also_1 = [[\"X\", \"X\", \" \"],\n",
        "\t[\"O\", \"X\", \" \"],\n",
        "\t[\"O\", \"X\", \"O\"]]\n",
        "\n",
        "no_winner = [[\"X\", \"O\", \" \"],\n",
        "\t[\"O\", \"X\", \" \"],\n",
        "\t[\"O\", \"X\", \"O\"]]\n",
        "\n",
        "also_no_winner = [[\"X\", \"O\", \" \"],\n",
        "\t[\"O\", \"X\", \" \"],\n",
        "\t[\"O\", \"X\", \" \"]]\n",
        "\n",
        "row_names=list(\"ABCDEFGHIJKLMNOPQRSTUVWXYZ\")\n",
        "row_map=dict(zip(row_names,range(n)))\n",
        "column_names = list(map(str, range(1, n+1)))\n",
        "column_map = dict(zip(column_names, range(n)))\n",
        "\n",
        "\n",
        "def create_game_board(myBoard):\n",
        "    print(\"  \",end=\" \")\n",
        "    for j in range(n):\n",
        "        print(column_names[j],\"  \", end=\" \")\n",
        "\n",
        "    for i in range(n):\n",
        "        print(\"\\n\", end=\"\")\n",
        "        print(\"  ---\" * n)\n",
        "        print(row_names[i],end=\"\")\n",
        "\n",
        "        for j in range(n):\n",
        "            print(\" |\", end=\"\")\n",
        "            print(myBoard[i][j], end= \"| \" )\n",
        "    print(\"\\n\", end=\"\")\n",
        "    print(\"  ---\" * n)"
      ]
    },
    {
      "cell_type": "code",
      "execution_count": 21,
      "metadata": {
        "collapsed": true,
        "id": "-WdHsOtW45XZ",
        "colab": {
          "base_uri": "https://localhost:8080/"
        },
        "outputId": "64834bc3-4ce0-4392-85ad-1aa55eed73ca"
      },
      "outputs": [
        {
          "output_type": "stream",
          "name": "stdout",
          "text": [
            "   1    2    3    \n",
            "  ---  ---  ---\n",
            "A |X|  |X|  | | \n",
            "  ---  ---  ---\n",
            "B |O|  |X|  | | \n",
            "  ---  ---  ---\n",
            "C |O|  |X|  |O| \n",
            "  ---  ---  ---\n"
          ]
        }
      ],
      "source": [
        "board_0 = create_game_board(winner_is_also_1)"
      ]
    },
    {
      "cell_type": "markdown",
      "metadata": {
        "id": "cr9T94rj45Xa"
      },
      "source": [
        "*Exercise 7:* Write a function that takes a board, player number, and location specified as in exercise 6 and then calls exercise 5 to correctly modify the board.  "
      ]
    },
    {
      "cell_type": "code",
      "execution_count": 22,
      "metadata": {
        "collapsed": true,
        "id": "kmVrvEbl45Xa"
      },
      "outputs": [],
      "source": [
        "n = 3\n",
        "board = list()\n",
        "for i in range(n):\n",
        "    row = list()\n",
        "    for j in range(n):\n",
        "        row.append(empty)\n",
        "\n",
        "    board.append(row)\n",
        "\n",
        "winner_is_2 = [[\" \", \" \", \" \"],\n",
        "\t[\" \", \" \", \" \"],\n",
        "\t[\" \", \" \", \" \"]]\n",
        "\n",
        "\n",
        "\n",
        "row_names=list(\"ABCDEFGHIJKLMNOPQRSTUVWXYZ\")\n",
        "row_map=dict(zip(row_names,range(n)))\n",
        "column_names = list(map(str, range(1, n+1)))\n",
        "column_map = dict(zip(column_names, range(n)))\n",
        "\n",
        "player = 1\n",
        "\n",
        "\n",
        "def parse_location(l_string):\n",
        "    if not isinstance(l_string,str):\n",
        "        print(\"Bad Input. Location must be string.\")\n",
        "        return False\n",
        "\n",
        "    if len(l_string)!=2:\n",
        "        print(\"Bad Input. Location must be 2 characters.\")\n",
        "        return False\n",
        "\n",
        "    row=l_string[0].upper()\n",
        "    col=l_string[1].upper()\n",
        "\n",
        "    if not row in row_names:\n",
        "        print(\"Bad Row.\")\n",
        "        return False\n",
        "\n",
        "    if not col in column_names:\n",
        "        print(\"Bad Column.\")\n",
        "        return False\n",
        "\n",
        "    return row_map[row],column_map[col]\n",
        "\n",
        "def create_game_board(myBoard,next_player,location):\n",
        "    parse_location(location)\n",
        "    R,C = location\n",
        "    x = row_map[R]\n",
        "    y = column_map[C]\n",
        "\n",
        "    if next_player == 1:\n",
        "            piece = \"X\"\n",
        "    elif next_player == 2:\n",
        "            piece = \"O\"\n",
        "    else:\n",
        "        print(\"Invalid player\")\n",
        "\n",
        "    print(\"Player\", next_player, \"turn:\")\n",
        "    if myBoard[x][y]==\" \":\n",
        "        my_turn = True\n",
        "        myBoard[x][y] = piece\n",
        "    else:\n",
        "        my_turn = False\n",
        "\n",
        "    print(\"  \",end=\" \")\n",
        "    for j in range(n):\n",
        "        print(column_names[j],\"  \", end=\" \")\n",
        "\n",
        "    for i in range(n):\n",
        "        print(\"\\n\", end=\"\")\n",
        "        print(\"  ---\" * n)\n",
        "        print(row_names[i],end=\"\")\n",
        "\n",
        "        for j in range(n):\n",
        "            print(\" |\", end=\"\")\n",
        "            print(myBoard[i][j], end= \"| \" )\n",
        "    print(\"\\n\", end=\"\")\n",
        "    print(\"  ---\" * n)\n",
        "    if my_turn:\n",
        "        print(\"Successful turn\")\n",
        "    else:\n",
        "        print(\"Invalid move\")\n",
        "    return(my_turn)"
      ]
    },
    {
      "cell_type": "code",
      "execution_count": 23,
      "metadata": {
        "collapsed": true,
        "id": "xvIDFA6p45Xa",
        "colab": {
          "base_uri": "https://localhost:8080/"
        },
        "outputId": "7e922462-3872-4009-c23f-7b0bbec004e0"
      },
      "outputs": [
        {
          "output_type": "stream",
          "name": "stdout",
          "text": [
            "Player 2 turn:\n",
            "   1    2    3    \n",
            "  ---  ---  ---\n",
            "A | |  | |  |O| \n",
            "  ---  ---  ---\n",
            "B | |  | |  | | \n",
            "  ---  ---  ---\n",
            "C | |  | |  | | \n",
            "  ---  ---  ---\n",
            "Successful turn\n"
          ]
        }
      ],
      "source": [
        "board_0 = create_game_board(winner_is_2, 2, \"A3\")"
      ]
    },
    {
      "cell_type": "markdown",
      "metadata": {
        "id": "AvvxKgDF45Xa"
      },
      "source": [
        "*Exercise 8:* Write a function is called with a board and player number, takes input from the player using python's `input`, and modifies the board using your function from exercise 7. Note that you should keep asking for input until you have gotten a valid input that results in a valid move."
      ]
    },
    {
      "cell_type": "code",
      "execution_count": null,
      "metadata": {
        "collapsed": true,
        "id": "zErqD9UN45Xa"
      },
      "outputs": [],
      "source": [
        "n = 3\n",
        "board = list()\n",
        "for i in range(n):\n",
        "    row = list()\n",
        "    for j in range(n):\n",
        "        row.append(empty)\n",
        "\n",
        "    board.append(row)\n",
        "\n",
        "new_board = [[\" \", \" \", \" \"],\n",
        "\t[\" \", \" \", \" \"],\n",
        "\t[\" \", \" \", \" \"]]\n",
        "\n",
        "\n",
        "\n",
        "row_names=list(\"ABCDEFGHIJKLMNOPQRSTUVWXYZ\")\n",
        "row_map=dict(zip(row_names,range(n)))\n",
        "column_names = list(map(str, range(1, n+1)))\n",
        "column_map = dict(zip(column_names, range(n)))\n",
        "\n",
        "player = 1\n",
        "\n",
        "\n",
        "def parse_location(l_string):\n",
        "    if not isinstance(l_string,str):\n",
        "        print(\"Bad Input. Location must be string.\")\n",
        "        return False\n",
        "\n",
        "    if len(l_string)!=2:\n",
        "        print(\"Bad Input. Location must be 2 characters.\")\n",
        "        return False\n",
        "\n",
        "    row=l_string[0].upper()\n",
        "    col=l_string[1].upper()\n",
        "\n",
        "    if not row in row_names:\n",
        "        print(\"Bad Row.\")\n",
        "        return False\n",
        "\n",
        "    if not col in column_names:\n",
        "        print(\"Bad Column.\")\n",
        "        return False\n",
        "\n",
        "    return row_map[row],column_map[col]\n",
        "\n",
        "def create_game_board(myBoard,location):\n",
        "    print(\"Please enter a valid player number of 1 or 2.\")\n",
        "    playerflag = False\n",
        "    while playerflag == False:\n",
        "        next_player = input(str)\n",
        "        if next_player == \"1\":\n",
        "            piece = \"X\"\n",
        "            playerflag = True\n",
        "        elif next_player == \"2\":\n",
        "            piece = \"O\"\n",
        "            playerflag = True\n",
        "        else:\n",
        "            print(\"Invalid player. Re-enter a valid player number.\")\n",
        "\n",
        "    parse_location(location)\n",
        "    R,C = location\n",
        "    x = row_map[R]\n",
        "    y = column_map[C]\n",
        "\n",
        "\n",
        "    print(\"Player\", next_player, \"turn:\")\n",
        "    if myBoard[x][y]==\" \":\n",
        "        my_turn = True\n",
        "        myBoard[x][y] = piece\n",
        "    else:\n",
        "        my_turn = False\n",
        "\n",
        "    print(\"  \",end=\" \")\n",
        "    for j in range(n):\n",
        "        print(column_names[j],\"  \", end=\" \")\n",
        "\n",
        "    for i in range(n):\n",
        "        print(\"\\n\", end=\"\")\n",
        "        print(\"  ---\" * n)\n",
        "        print(row_names[i],end=\"\")\n",
        "\n",
        "        for j in range(n):\n",
        "            print(\" |\", end=\"\")\n",
        "            print(myBoard[i][j], end= \"| \" )\n",
        "    print(\"\\n\", end=\"\")\n",
        "    print(\"  ---\" * n)\n",
        "    if my_turn:\n",
        "        print(\"Successful turn\")\n",
        "    else:\n",
        "        print(\"Invalid move\")\n",
        "    return(my_turn)"
      ]
    },
    {
      "cell_type": "code",
      "execution_count": 25,
      "metadata": {
        "collapsed": true,
        "id": "_3qC5_iX45Xb",
        "colab": {
          "base_uri": "https://localhost:8080/"
        },
        "outputId": "1a0ec8f0-e7b9-4a41-c652-4ab55becb09a"
      },
      "outputs": [
        {
          "output_type": "stream",
          "name": "stdout",
          "text": [
            "Please enter a valid player number of 1 or 2.\n"
          ]
        },
        {
          "output_type": "stream",
          "name": "stderr",
          "text": [
            "ERROR:root:Internal Python error in the inspect module.\n",
            "Below is the traceback from this internal error.\n",
            "\n",
            "\n",
            "KeyboardInterrupt\n",
            "\n"
          ]
        }
      ],
      "source": [
        "board_0 = create_game_board(winner_is_2, \"A1\")"
      ]
    },
    {
      "cell_type": "markdown",
      "metadata": {
        "id": "F_Ozk4WT45Xb"
      },
      "source": [
        "*Exercise 9:* Use all of the previous exercises to implement a full tic-tac-toe game, where an appropriate board is drawn, 2 players are repeatedly asked for a location coordinates of where they wish to place a mark, and the game status is checked until a player wins or a draw occurs."
      ]
    },
    {
      "cell_type": "code",
      "execution_count": 8,
      "metadata": {
        "collapsed": true,
        "id": "cPTiwbdy45Xb"
      },
      "outputs": [],
      "source": [
        "n = 3\n",
        "land = [[\" \" for _ in range(n)] for _ in range(n)]\n",
        "\n",
        "row_names = list(\"ABCDEFGHIJKLMNOPQRSTUVWXYZ\")\n",
        "row_map = dict(zip(row_names, range(n)))\n",
        "column_names = list(map(str, range(1, n + 1)))\n",
        "column_map = dict(zip(column_names, range(n)))\n",
        "\n",
        "def parse_location(l_string):\n",
        "    if not isinstance(l_string, str):\n",
        "        print(\"Bad Input. Location must be string.\")\n",
        "        return False\n",
        "\n",
        "    if len(l_string) != 2:\n",
        "        print(\"Bad Input. Location must be 2 characters.\")\n",
        "        return False\n",
        "\n",
        "    row = l_string[0].upper()\n",
        "    col = l_string[1].upper()\n",
        "\n",
        "    if row not in row_names:\n",
        "        print(\"Bad Row.\")\n",
        "        return False\n",
        "\n",
        "    if col not in column_names:\n",
        "        print(\"Bad Column.\")\n",
        "        return False\n",
        "\n",
        "    return row_map[row], column_map[col]\n",
        "\n",
        "def print_land(mine):\n",
        "    print(\"  \",end=\" \")\n",
        "    for j in range(n):\n",
        "        print(column_names[j],\"  \", end=\" \")\n",
        "\n",
        "    for i in range(n):\n",
        "        print(\"\\n\", end=\"\")\n",
        "        print(\"  ---\" * n)\n",
        "        print(row_names[i],end=\"\")\n",
        "\n",
        "        for j in range(n):\n",
        "            print(\" |\", end=\"\")\n",
        "            print(mine[i][j], end= \"| \" )\n",
        "    print(\"\\n\", end=\"\")\n",
        "    print(\"  ---\" * n)\n",
        "\n",
        "def check_winner(land, player):\n",
        "    for row in land:\n",
        "        if all(cell == player for cell in row):\n",
        "            return True\n",
        "\n",
        "    for col in range(n):\n",
        "        if all(land[row][col] == player for row in range(n)):\n",
        "            return True\n",
        "\n",
        "    if all(land[i][i] == player for i in range(n)) or \\\n",
        "       all(land[i][n - 1 - i] == player for i in range(n)):\n",
        "        return True\n",
        "\n",
        "    return False\n",
        "\n",
        "def check_draw(land):\n",
        "    for row in land:\n",
        "        if \" \" in row:\n",
        "            return False\n",
        "    return True\n",
        "\n",
        "def create_game_land():\n",
        "    player = \"X\"\n",
        "    while True:\n",
        "        print_land(land)\n",
        "        print(f\"Player {player}'s turn:\")\n",
        "        location = input(\"Enter your move: \")\n",
        "        if parse_location(location):\n",
        "            row, col = parse_location(location)\n",
        "        else:\n",
        "            continue\n",
        "        if row is None or col is None or land[row][col] != \" \":\n",
        "            print(\"Invalid move. Try again.\")\n",
        "            continue\n",
        "        land[row][col] = player\n",
        "        if check_winner(land, player):\n",
        "            print_land(land)\n",
        "            print(f\"Player {player} wins!\")\n",
        "            break\n",
        "        if check_draw(land):\n",
        "            print_land(land)\n",
        "            print(\"It's a draw!\")\n",
        "            break\n",
        "        player = \"O\" if player == \"X\" else \"X\""
      ]
    },
    {
      "cell_type": "code",
      "execution_count": 9,
      "metadata": {
        "collapsed": true,
        "id": "8SaHeuqF45Xb",
        "colab": {
          "base_uri": "https://localhost:8080/",
          "height": 443
        },
        "outputId": "978ee55f-0d2a-43e5-e65b-579e6612d847"
      },
      "outputs": [
        {
          "output_type": "stream",
          "name": "stdout",
          "text": [
            "   1    2    3    \n",
            "  ---  ---  ---\n",
            "A | |  | |  | | \n",
            "  ---  ---  ---\n",
            "B | |  | |  | | \n",
            "  ---  ---  ---\n",
            "C | |  | |  | | \n",
            "  ---  ---  ---\n",
            "Player X's turn:\n"
          ]
        },
        {
          "output_type": "error",
          "ename": "KeyboardInterrupt",
          "evalue": "Interrupted by user",
          "traceback": [
            "\u001b[0;31m---------------------------------------------------------------------------\u001b[0m",
            "\u001b[0;31mKeyboardInterrupt\u001b[0m                         Traceback (most recent call last)",
            "\u001b[0;32m<ipython-input-9-de544f7ccf1f>\u001b[0m in \u001b[0;36m<cell line: 1>\u001b[0;34m()\u001b[0m\n\u001b[0;32m----> 1\u001b[0;31m \u001b[0mcreate_game_board\u001b[0m\u001b[0;34m(\u001b[0m\u001b[0;34m)\u001b[0m\u001b[0;34m\u001b[0m\u001b[0;34m\u001b[0m\u001b[0m\n\u001b[0m",
            "\u001b[0;32m<ipython-input-5-4567049ecb1f>\u001b[0m in \u001b[0;36mcreate_game_board\u001b[0;34m()\u001b[0m\n\u001b[1;32m     71\u001b[0m         \u001b[0mprint_board\u001b[0m\u001b[0;34m(\u001b[0m\u001b[0mboard\u001b[0m\u001b[0;34m)\u001b[0m\u001b[0;34m\u001b[0m\u001b[0;34m\u001b[0m\u001b[0m\n\u001b[1;32m     72\u001b[0m         \u001b[0mprint\u001b[0m\u001b[0;34m(\u001b[0m\u001b[0;34mf\"Player {player}'s turn:\"\u001b[0m\u001b[0;34m)\u001b[0m\u001b[0;34m\u001b[0m\u001b[0;34m\u001b[0m\u001b[0m\n\u001b[0;32m---> 73\u001b[0;31m         \u001b[0mlocation\u001b[0m \u001b[0;34m=\u001b[0m \u001b[0minput\u001b[0m\u001b[0;34m(\u001b[0m\u001b[0;34m\"Enter your move: \"\u001b[0m\u001b[0;34m)\u001b[0m\u001b[0;34m\u001b[0m\u001b[0;34m\u001b[0m\u001b[0m\n\u001b[0m\u001b[1;32m     74\u001b[0m         \u001b[0;32mif\u001b[0m \u001b[0mparse_location\u001b[0m\u001b[0;34m(\u001b[0m\u001b[0mlocation\u001b[0m\u001b[0;34m)\u001b[0m\u001b[0;34m:\u001b[0m\u001b[0;34m\u001b[0m\u001b[0;34m\u001b[0m\u001b[0m\n\u001b[1;32m     75\u001b[0m             \u001b[0mrow\u001b[0m\u001b[0;34m,\u001b[0m \u001b[0mcol\u001b[0m \u001b[0;34m=\u001b[0m \u001b[0mparse_location\u001b[0m\u001b[0;34m(\u001b[0m\u001b[0mlocation\u001b[0m\u001b[0;34m)\u001b[0m\u001b[0;34m\u001b[0m\u001b[0;34m\u001b[0m\u001b[0m\n",
            "\u001b[0;32m/usr/local/lib/python3.10/dist-packages/ipykernel/kernelbase.py\u001b[0m in \u001b[0;36mraw_input\u001b[0;34m(self, prompt)\u001b[0m\n\u001b[1;32m    849\u001b[0m                 \u001b[0;34m\"raw_input was called, but this frontend does not support input requests.\"\u001b[0m\u001b[0;34m\u001b[0m\u001b[0;34m\u001b[0m\u001b[0m\n\u001b[1;32m    850\u001b[0m             )\n\u001b[0;32m--> 851\u001b[0;31m         return self._input_request(str(prompt),\n\u001b[0m\u001b[1;32m    852\u001b[0m             \u001b[0mself\u001b[0m\u001b[0;34m.\u001b[0m\u001b[0m_parent_ident\u001b[0m\u001b[0;34m,\u001b[0m\u001b[0;34m\u001b[0m\u001b[0;34m\u001b[0m\u001b[0m\n\u001b[1;32m    853\u001b[0m             \u001b[0mself\u001b[0m\u001b[0;34m.\u001b[0m\u001b[0m_parent_header\u001b[0m\u001b[0;34m,\u001b[0m\u001b[0;34m\u001b[0m\u001b[0;34m\u001b[0m\u001b[0m\n",
            "\u001b[0;32m/usr/local/lib/python3.10/dist-packages/ipykernel/kernelbase.py\u001b[0m in \u001b[0;36m_input_request\u001b[0;34m(self, prompt, ident, parent, password)\u001b[0m\n\u001b[1;32m    893\u001b[0m             \u001b[0;32mexcept\u001b[0m \u001b[0mKeyboardInterrupt\u001b[0m\u001b[0;34m:\u001b[0m\u001b[0;34m\u001b[0m\u001b[0;34m\u001b[0m\u001b[0m\n\u001b[1;32m    894\u001b[0m                 \u001b[0;31m# re-raise KeyboardInterrupt, to truncate traceback\u001b[0m\u001b[0;34m\u001b[0m\u001b[0;34m\u001b[0m\u001b[0m\n\u001b[0;32m--> 895\u001b[0;31m                 \u001b[0;32mraise\u001b[0m \u001b[0mKeyboardInterrupt\u001b[0m\u001b[0;34m(\u001b[0m\u001b[0;34m\"Interrupted by user\"\u001b[0m\u001b[0;34m)\u001b[0m \u001b[0;32mfrom\u001b[0m \u001b[0;32mNone\u001b[0m\u001b[0;34m\u001b[0m\u001b[0;34m\u001b[0m\u001b[0m\n\u001b[0m\u001b[1;32m    896\u001b[0m             \u001b[0;32mexcept\u001b[0m \u001b[0mException\u001b[0m \u001b[0;32mas\u001b[0m \u001b[0me\u001b[0m\u001b[0;34m:\u001b[0m\u001b[0;34m\u001b[0m\u001b[0;34m\u001b[0m\u001b[0m\n\u001b[1;32m    897\u001b[0m                 \u001b[0mself\u001b[0m\u001b[0;34m.\u001b[0m\u001b[0mlog\u001b[0m\u001b[0;34m.\u001b[0m\u001b[0mwarning\u001b[0m\u001b[0;34m(\u001b[0m\u001b[0;34m\"Invalid Message:\"\u001b[0m\u001b[0;34m,\u001b[0m \u001b[0mexc_info\u001b[0m\u001b[0;34m=\u001b[0m\u001b[0;32mTrue\u001b[0m\u001b[0;34m)\u001b[0m\u001b[0;34m\u001b[0m\u001b[0;34m\u001b[0m\u001b[0m\n",
            "\u001b[0;31mKeyboardInterrupt\u001b[0m: Interrupted by user"
          ]
        }
      ],
      "source": [
        "create_game_board()"
      ]
    },
    {
      "cell_type": "markdown",
      "metadata": {
        "id": "qiMcz18T45Xc"
      },
      "source": [
        "*Exercise 10:* Test that your game works for 5x5 Tic Tac Toe.  "
      ]
    },
    {
      "cell_type": "code",
      "execution_count": 6,
      "metadata": {
        "collapsed": true,
        "id": "wFYQ893x45Xc",
        "colab": {
          "base_uri": "https://localhost:8080/",
          "height": 547
        },
        "outputId": "718c72bb-c5b0-4707-949c-c843e2d35662"
      },
      "outputs": [
        {
          "output_type": "stream",
          "name": "stdout",
          "text": [
            "   1    2    3    4    5    \n",
            "  ---  ---  ---  ---  ---\n",
            "A | |  | |  | |  | |  | | \n",
            "  ---  ---  ---  ---  ---\n",
            "B | |  | |  | |  | |  | | \n",
            "  ---  ---  ---  ---  ---\n",
            "C | |  | |  | |  | |  | | \n",
            "  ---  ---  ---  ---  ---\n",
            "D | |  | |  | |  | |  | | \n",
            "  ---  ---  ---  ---  ---\n",
            "E | |  | |  | |  | |  | | \n",
            "  ---  ---  ---  ---  ---\n",
            "Player X's turn:\n"
          ]
        },
        {
          "output_type": "error",
          "ename": "KeyboardInterrupt",
          "evalue": "Interrupted by user",
          "traceback": [
            "\u001b[0;31m---------------------------------------------------------------------------\u001b[0m",
            "\u001b[0;31mKeyboardInterrupt\u001b[0m                         Traceback (most recent call last)",
            "\u001b[0;32m<ipython-input-6-3dcc7c63e753>\u001b[0m in \u001b[0;36m<cell line: 92>\u001b[0;34m()\u001b[0m\n\u001b[1;32m     90\u001b[0m         \u001b[0mplayer\u001b[0m \u001b[0;34m=\u001b[0m \u001b[0;34m\"O\"\u001b[0m \u001b[0;32mif\u001b[0m \u001b[0mplayer\u001b[0m \u001b[0;34m==\u001b[0m \u001b[0;34m\"X\"\u001b[0m \u001b[0;32melse\u001b[0m \u001b[0;34m\"X\"\u001b[0m\u001b[0;34m\u001b[0m\u001b[0;34m\u001b[0m\u001b[0m\n\u001b[1;32m     91\u001b[0m \u001b[0;34m\u001b[0m\u001b[0m\n\u001b[0;32m---> 92\u001b[0;31m \u001b[0mcreate_game_land\u001b[0m\u001b[0;34m(\u001b[0m\u001b[0;34m)\u001b[0m\u001b[0;34m\u001b[0m\u001b[0;34m\u001b[0m\u001b[0m\n\u001b[0m",
            "\u001b[0;32m<ipython-input-6-3dcc7c63e753>\u001b[0m in \u001b[0;36mcreate_game_land\u001b[0;34m()\u001b[0m\n\u001b[1;32m     71\u001b[0m         \u001b[0mprint_land\u001b[0m\u001b[0;34m(\u001b[0m\u001b[0mland\u001b[0m\u001b[0;34m)\u001b[0m\u001b[0;34m\u001b[0m\u001b[0;34m\u001b[0m\u001b[0m\n\u001b[1;32m     72\u001b[0m         \u001b[0mprint\u001b[0m\u001b[0;34m(\u001b[0m\u001b[0;34mf\"Player {player}'s turn:\"\u001b[0m\u001b[0;34m)\u001b[0m\u001b[0;34m\u001b[0m\u001b[0;34m\u001b[0m\u001b[0m\n\u001b[0;32m---> 73\u001b[0;31m         \u001b[0mlocation\u001b[0m \u001b[0;34m=\u001b[0m \u001b[0minput\u001b[0m\u001b[0;34m(\u001b[0m\u001b[0;34m\"Enter your move: \"\u001b[0m\u001b[0;34m)\u001b[0m\u001b[0;34m\u001b[0m\u001b[0;34m\u001b[0m\u001b[0m\n\u001b[0m\u001b[1;32m     74\u001b[0m         \u001b[0;32mif\u001b[0m \u001b[0mparse_location\u001b[0m\u001b[0;34m(\u001b[0m\u001b[0mlocation\u001b[0m\u001b[0;34m)\u001b[0m\u001b[0;34m:\u001b[0m\u001b[0;34m\u001b[0m\u001b[0;34m\u001b[0m\u001b[0m\n\u001b[1;32m     75\u001b[0m             \u001b[0mrow\u001b[0m\u001b[0;34m,\u001b[0m \u001b[0mcol\u001b[0m \u001b[0;34m=\u001b[0m \u001b[0mparse_location\u001b[0m\u001b[0;34m(\u001b[0m\u001b[0mlocation\u001b[0m\u001b[0;34m)\u001b[0m\u001b[0;34m\u001b[0m\u001b[0;34m\u001b[0m\u001b[0m\n",
            "\u001b[0;32m/usr/local/lib/python3.10/dist-packages/ipykernel/kernelbase.py\u001b[0m in \u001b[0;36mraw_input\u001b[0;34m(self, prompt)\u001b[0m\n\u001b[1;32m    849\u001b[0m                 \u001b[0;34m\"raw_input was called, but this frontend does not support input requests.\"\u001b[0m\u001b[0;34m\u001b[0m\u001b[0;34m\u001b[0m\u001b[0m\n\u001b[1;32m    850\u001b[0m             )\n\u001b[0;32m--> 851\u001b[0;31m         return self._input_request(str(prompt),\n\u001b[0m\u001b[1;32m    852\u001b[0m             \u001b[0mself\u001b[0m\u001b[0;34m.\u001b[0m\u001b[0m_parent_ident\u001b[0m\u001b[0;34m,\u001b[0m\u001b[0;34m\u001b[0m\u001b[0;34m\u001b[0m\u001b[0m\n\u001b[1;32m    853\u001b[0m             \u001b[0mself\u001b[0m\u001b[0;34m.\u001b[0m\u001b[0m_parent_header\u001b[0m\u001b[0;34m,\u001b[0m\u001b[0;34m\u001b[0m\u001b[0;34m\u001b[0m\u001b[0m\n",
            "\u001b[0;32m/usr/local/lib/python3.10/dist-packages/ipykernel/kernelbase.py\u001b[0m in \u001b[0;36m_input_request\u001b[0;34m(self, prompt, ident, parent, password)\u001b[0m\n\u001b[1;32m    893\u001b[0m             \u001b[0;32mexcept\u001b[0m \u001b[0mKeyboardInterrupt\u001b[0m\u001b[0;34m:\u001b[0m\u001b[0;34m\u001b[0m\u001b[0;34m\u001b[0m\u001b[0m\n\u001b[1;32m    894\u001b[0m                 \u001b[0;31m# re-raise KeyboardInterrupt, to truncate traceback\u001b[0m\u001b[0;34m\u001b[0m\u001b[0;34m\u001b[0m\u001b[0m\n\u001b[0;32m--> 895\u001b[0;31m                 \u001b[0;32mraise\u001b[0m \u001b[0mKeyboardInterrupt\u001b[0m\u001b[0;34m(\u001b[0m\u001b[0;34m\"Interrupted by user\"\u001b[0m\u001b[0;34m)\u001b[0m \u001b[0;32mfrom\u001b[0m \u001b[0;32mNone\u001b[0m\u001b[0;34m\u001b[0m\u001b[0;34m\u001b[0m\u001b[0m\n\u001b[0m\u001b[1;32m    896\u001b[0m             \u001b[0;32mexcept\u001b[0m \u001b[0mException\u001b[0m \u001b[0;32mas\u001b[0m \u001b[0me\u001b[0m\u001b[0;34m:\u001b[0m\u001b[0;34m\u001b[0m\u001b[0;34m\u001b[0m\u001b[0m\n\u001b[1;32m    897\u001b[0m                 \u001b[0mself\u001b[0m\u001b[0;34m.\u001b[0m\u001b[0mlog\u001b[0m\u001b[0;34m.\u001b[0m\u001b[0mwarning\u001b[0m\u001b[0;34m(\u001b[0m\u001b[0;34m\"Invalid Message:\"\u001b[0m\u001b[0;34m,\u001b[0m \u001b[0mexc_info\u001b[0m\u001b[0;34m=\u001b[0m\u001b[0;32mTrue\u001b[0m\u001b[0;34m)\u001b[0m\u001b[0;34m\u001b[0m\u001b[0;34m\u001b[0m\u001b[0m\n",
            "\u001b[0;31mKeyboardInterrupt\u001b[0m: Interrupted by user"
          ]
        }
      ],
      "source": [
        "n = 5\n",
        "land = [[\" \" for _ in range(n)] for _ in range(n)]\n",
        "\n",
        "row_names = list(\"ABCDEFGHIJKLMNOPQRSTUVWXYZ\")\n",
        "row_map = dict(zip(row_names, range(n)))\n",
        "column_names = list(map(str, range(1, n + 1)))\n",
        "column_map = dict(zip(column_names, range(n)))\n",
        "\n",
        "def parse_location(l_string):\n",
        "    if not isinstance(l_string, str):\n",
        "        print(\"Bad Input. Location must be string.\")\n",
        "        return False\n",
        "\n",
        "    if len(l_string) != 2:\n",
        "        print(\"Bad Input. Location must be 2 characters.\")\n",
        "        return False\n",
        "\n",
        "    row = l_string[0].upper()\n",
        "    col = l_string[1].upper()\n",
        "\n",
        "    if row not in row_names:\n",
        "        print(\"Bad Row.\")\n",
        "        return False\n",
        "\n",
        "    if col not in column_names:\n",
        "        print(\"Bad Column.\")\n",
        "        return False\n",
        "\n",
        "    return row_map[row], column_map[col]\n",
        "\n",
        "def print_land(mine):\n",
        "    print(\"  \",end=\" \")\n",
        "    for j in range(n):\n",
        "        print(column_names[j],\"  \", end=\" \")\n",
        "\n",
        "    for i in range(n):\n",
        "        print(\"\\n\", end=\"\")\n",
        "        print(\"  ---\" * n)\n",
        "        print(row_names[i],end=\"\")\n",
        "\n",
        "        for j in range(n):\n",
        "            print(\" |\", end=\"\")\n",
        "            print(mine[i][j], end= \"| \" )\n",
        "    print(\"\\n\", end=\"\")\n",
        "    print(\"  ---\" * n)\n",
        "\n",
        "def check_winner(land, player):\n",
        "    for row in land:\n",
        "        if all(cell == player for cell in row):\n",
        "            return True\n",
        "\n",
        "    for col in range(n):\n",
        "        if all(land[row][col] == player for row in range(n)):\n",
        "            return True\n",
        "\n",
        "    if all(land[i][i] == player for i in range(n)) or \\\n",
        "       all(land[i][n - 1 - i] == player for i in range(n)):\n",
        "        return True\n",
        "\n",
        "    return False\n",
        "\n",
        "def check_draw(land):\n",
        "    for row in land:\n",
        "        if \" \" in row:\n",
        "            return False\n",
        "    return True\n",
        "\n",
        "def create_game_land():\n",
        "    player = \"X\"\n",
        "    while True:\n",
        "        print_land(land)\n",
        "        print(f\"Player {player}'s turn:\")\n",
        "        location = input(\"Enter your move: \")\n",
        "        if parse_location(location):\n",
        "            row, col = parse_location(location)\n",
        "        else:\n",
        "            continue\n",
        "        if row is None or col is None or land[row][col] != \" \":\n",
        "            print(\"Invalid move. Try again.\")\n",
        "            continue\n",
        "        land[row][col] = player\n",
        "        if check_winner(land, player):\n",
        "            print_land(land)\n",
        "            print(f\"Player {player} wins!\")\n",
        "            break\n",
        "        if check_draw(land):\n",
        "            print_land(land)\n",
        "            print(\"It's a draw!\")\n",
        "            break\n",
        "        player = \"O\" if player == \"X\" else \"X\"\n",
        "\n",
        "create_game_land()"
      ]
    },
    {
      "cell_type": "markdown",
      "metadata": {
        "id": "OE_iYHBg45Xc"
      },
      "source": [
        "*Exercise 11:* (Advanced / Challenge) Develop a version of the game where one player is the computer. Note that you don't need to do an extensive seach for the best move. You can have the computer simply protect against loosing and otherwise try to win with straight or diagonal patterns."
      ]
    },
    {
      "cell_type": "code",
      "execution_count": null,
      "metadata": {
        "collapsed": true,
        "id": "viUFOo5845Xc"
      },
      "outputs": [],
      "source": [
        "# Write you solution here"
      ]
    },
    {
      "cell_type": "code",
      "execution_count": null,
      "metadata": {
        "collapsed": true,
        "id": "3xJJsQ2045Xd"
      },
      "outputs": [],
      "source": [
        "# Test your solution here"
      ]
    }
  ],
  "metadata": {
    "kernelspec": {
      "display_name": "Python 3 (ipykernel)",
      "language": "python",
      "name": "python3"
    },
    "language_info": {
      "codemirror_mode": {
        "name": "ipython",
        "version": 3
      },
      "file_extension": ".py",
      "mimetype": "text/x-python",
      "name": "python",
      "nbconvert_exporter": "python",
      "pygments_lexer": "ipython3",
      "version": "3.9.6"
    },
    "colab": {
      "provenance": []
    }
  },
  "nbformat": 4,
  "nbformat_minor": 0
}