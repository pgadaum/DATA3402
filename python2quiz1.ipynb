{
  "nbformat": 4,
  "nbformat_minor": 0,
  "metadata": {
    "colab": {
      "provenance": []
    },
    "kernelspec": {
      "name": "python3",
      "display_name": "Python 3"
    },
    "language_info": {
      "name": "python"
    }
  },
  "cells": [
    {
      "cell_type": "code",
      "source": [
        "def create_new_args_0(args):\n",
        "    max_len = max(map(len, filter(lambda x: isinstance(x,list),args)))\n",
        "    new_args = [a if not isinstance(a, list) else a + [None] * (max_len - len(a)) for a in args]\n",
        "    return new_args"
      ],
      "metadata": {
        "id": "yLldJzUuPm0Z"
      },
      "execution_count": 3,
      "outputs": []
    }
  ]
}