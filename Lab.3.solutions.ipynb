{
  "cells": [
    {
      "cell_type": "markdown",
      "metadata": {
        "id": "-Wba-UKnIpvv"
      },
      "source": [
        "# Lab 3\n",
        "\n",
        "In this lab we will become familiar with distributions, histograms, and functional programming. Do not use numpy or any other library for this lab.\n",
        "\n",
        "Before that, lets get setup homework submission and submit your previous lab.  \n",
        "\n",
        "## Working on the Command-line.\n",
        "\n",
        "It is important for you to learn to work on the command line and to be familiar with the Unix environment (e.g. Linux, Mac OS, or Windows Linux Subsystem). We'll go over working on the command-line in detail later in the course.\n",
        "\n",
        "You are required to submit your work in this course via GitHub. Today in class, you will setup everything on the command-line.\n",
        "\n",
        "### Command-line basics\n",
        "\n",
        "There is plenty of material online that will help you figure out how to do various tasks on the command line. Commands you may need to know today:\n",
        "\n",
        "* `ls`: lists the contents of the current directory.\n",
        "* `pwd`: prints the path of the current directory.\n",
        "* `cd <directory>`: changes your current directory to the specified directory.\n",
        "* `cd ..`: changes current directory to the previous directory. Basically steps out of the current directory to the directory containing the current directory.\n",
        "* `mkdir <directory>`: create a new directory with the specified name.\n",
        "* `rmdir <directory>`: removes the specified directory. Note it has to be empty.\n",
        "* `rm <filename>`: deletes the specified file.\n",
        "* `mv <filename 1> <filename 1>`: Moves or renames a file.\n",
        "* `cp <filename 1> <filename 2>`: copies an file. If you just provide a path to a directory, it copies the file into that directory with the same filename. If you specifiy a new filename, the copy has a new name. For example `cp File.1.txt File.2.txt` creates a copy of `File.1.txt` with the name `File.2.txt`. Meanwhile `cp File.1.txt my_directory`, where `my_directory` is a directory, creates a copy of `File.1.txt` in directory `my_directory` with the name `File.1.txt`.\n",
        "\n",
        "For reference, here are some example resources I found by googling:\n",
        "\n",
        "* Paths and Wildcards: https://www.warp.dev/terminus/linux-wildcards\n",
        "* Basic commands like copy: https://kb.iu.edu/d/afsk\n",
        "* General introduction to shell: https://github-pages.ucl.ac.uk/RCPSTrainingMaterials/HPCandHTCusingLegion/2_intro_to_shell.html\n",
        "* Manual pages: https://www.geeksforgeeks.org/linux-man-page-entries-different-types/?ref=ml_lbp\n",
        "* Chaining commands: https://www.geeksforgeeks.org/chaining-commands-in-linux/?ref=ml_lbp\n",
        "* Piping: https://www.geeksforgeeks.org/piping-in-unix-or-linux/\n",
        "* Using sed: https://www.geeksforgeeks.org/sed-command-linux-set-2/?ref=ml_lbp\n",
        "* Various Unix commands: https://www.geeksforgeeks.org/linux-commands/?ref=lbp\n",
        "* Cheat sheets:\n",
        "    * https://www.stationx.net/unix-commands-cheat-sheet/\n",
        "    * https://cheatography.com/davechild/cheat-sheets/linux-command-line/\n",
        "    * https://www.theknowledgeacademy.com/blog/unix-commands-cheat-sheet/\n",
        "    \n",
        "These aren't necessarily the best resources. Feel free to search for better ones. Also, don't forget that Unix has built-in manual pages for all of its commands. Just type `man <command>` at the command prompt. Use the space-bar to scroll through the documentation and \"q\" to exit.\n",
        "\n",
        "\n",
        "### Setup and Submission\n",
        "\n",
        "Our course repository is public. The instructions here aim to have you setup a fork of the course repository. Unfortunately because you are forking a public repo, your fork will have to be public also.\n",
        "\n",
        "You should be familiar with git from the first semester of this course. I assume that you all have github accounts and have setup things to be able to [push to github using ssh](https://docs.github.com/en/github/authenticating-to-github/connecting-to-github-with-ssh). The instuctions here lead you to:\n",
        "\n",
        "We'll overview what you will do before going through step by step instructions.\n",
        "\n",
        "1. Setup:\n",
        "    1. Fork the class repository. Some directions in [fork-a-repo](https://docs.github.com/en/github/getting-started-with-github/fork-a-repo).\n",
        "    1. Create a directory on your personal system where you will keep all course materials.\n",
        "    1. In that directory, clone your fork of the repository.\n",
        "    1. Using `git remote`, set the upstream to be the class repo, so you can pull from the class and push to your fork.\n",
        "\n",
        "1. Submission:\n",
        "    1. Copy your solutions into the appropriate directory (e.g. into `Labs/Lab.2/`) and with appropriate filename `Lab.2.solution.ipynb'.\n",
        "    1. Commit / push your solutions.\n",
        "    1. Grant access to course instructors.\n",
        "\n",
        "Below are step by step instructions with examples (including example directory naming convention). Feel free to modify things as you see fit.\n",
        "\n",
        "#### Setup\n",
        "You should only need to follow this instructions once. Here are some useful git commands:\n",
        "\n",
        "* Git help: `git help`\n",
        "* Git remote help: `git help remote`\n",
        "* Check remote status: `git remote -v`\n",
        "* Add a remote: `git remote add <stream name> <repo URL>`\n",
        "* Add a remove: `git remote remove <stream name>`\n",
        "\n",
        "Steps:\n",
        "1. In a browser, log into GitHub and navigate to the [course repository](https://github.com/UTA-DataScience/DATA3402.Fall.2024).\n",
        "1. On the top right of the page, press the fork button to create a new fork into your own GitHub account.\n",
        "1. After successful fork, you should find the browser showing your fork of the course repository. Use the green \"Code\" button to copy path to the repo into your the clipboard of your computer.\n",
        "1. Open a shell on your personal computer.\n",
        "1. If you have not done so already, create a new directory/folder where you will keep all course material to navigate to it. For example: `mkdir Data-3402` and `cd Data-3402`.\n",
        "1. Clone your fork of the repository using `git clone` followed by the path you copied into your clipboard. (copy/paste)\n",
        "1. Paste the URL to your fork in the worksheet for the TAs and instructors.\n",
        "1. Now go into the directory of your clone (`cd DATA3402.Fall.2024`).\n",
        "1. Type `git remote -v` to see the current setup for fetch and pull.\n",
        "1. Note the URL you see. This should be the same as what you used for your clone for both push and fetch.\n",
        "1. Delete the origin remote using `git remote remove origin`.\n",
        "1. Add the course repo as your remote using `git remote add origin https://github.com/UTA-DataScience/DATA3402.Fall.2024.git`.\n",
        "1. Change the push to point to your fork. This means you will need the URL to your clone we copied earlier and confirmed as the original origin. The command will look something like: `git remote set-url --push origin  https://github.com/XXXXXX/DATA3402.Fall.2024.git`, where XXXXX is your username on GitHub.\n",
        "1. Note that if you setup everything correctly, you now should be able to do `git pull` to get updates from the course repo, and do `git push` to push your commits into your own fork.\n",
        "\n",
        "### Submission\n",
        "These instructions outline how you submit files. Some useful commands:\n",
        "* To add a file to local repository: `git add <file>`.\n",
        "* To commit all changed files into local repository: `git -a -m \"A message\"`. You need to provide some comment when you commit.\n",
        "* To push the commited files from the local repository to GitHub: `git push`.\n",
        "* To get updates from GitHub: `git pull`.\n",
        "\n",
        "Steps:\n",
        "1. To submit your labs, navigate to your clone of your fork of the course repository.\n",
        "1. Use `git pull` to make sure you have the latest updates.\n",
        "1. Make sure your copy of the lab your are working on is in the appropriate place in this clone. That means if you have the file elsewhere, copy it to the same directory in your clone of your fork.\n",
        "1. Note that in order to avoid future conflicts, you should always name your solution differently than the original file in the class repo. For example if your file is still named `Lab.2.ipynb` you should rename it using the `mv` command: `mv Lab.2.ipynb Lab.2.solution.ipynb`.\n",
        "1. Add and files you wish to submit into the repo. For example: `git add Labs/Lab.2/Lab.2.solution.ipynb`\n",
        "1. Commit any changes: `git commit -a -m \"Lab 2 updates\"`\n",
        "1. Push your changes: `git push`\n",
        "1. Check on github website that your solutions have been properly submitted.\n",
        "\n",
        "Before you leave the session today, make sure your GitHub Repo is setup. If you need to work further on your lab, navigate jupyter to the copy of the lab you just submitted and work there. Once done, repeat the commit and push commands to submit your updated solution. Note that lab 2 is due by midnight Monday 9/8/2024.\n"
      ]
    },
    {
      "cell_type": "markdown",
      "metadata": {
        "id": "oUlzsjHRIpv1"
      },
      "source": [
        "### Uniform Distribution\n",
        "Lets start with generating some fake random data. You can get a random number between 0 and 1 using the python random module as follow:"
      ]
    },
    {
      "cell_type": "code",
      "execution_count": 23,
      "metadata": {
        "colab": {
          "base_uri": "https://localhost:8080/"
        },
        "id": "3hF6LROSIpv2",
        "outputId": "4d2cc107-bd7c-462c-a4df-4b1d5630fb05"
      },
      "outputs": [
        {
          "output_type": "stream",
          "name": "stdout",
          "text": [
            "The Value of x is 0.8724225509882505\n"
          ]
        }
      ],
      "source": [
        "import random\n",
        "x=random.random() # generates a random floating point number between 0 and 1\n",
        "print(\"The Value of x is\", x)"
      ]
    },
    {
      "cell_type": "markdown",
      "metadata": {
        "id": "cr69DamWIpv3"
      },
      "source": [
        "Everytime you call random, you will get a new number.\n",
        "\n",
        "*Exercise 1:* Using random, write a function `generate_uniform(N, mymin, mymax)`, that returns a python list containing N random numbers between specified minimum and maximum value. Note that you may want to quickly work out on paper how to turn numbers between 0 and 1 to between other values."
      ]
    },
    {
      "cell_type": "code",
      "execution_count": 24,
      "metadata": {
        "id": "fMRgzEqMIpv3"
      },
      "outputs": [],
      "source": [
        "# Skeleton\n",
        "def generate_uniform(N,x_min,x_max):\n",
        "    out = []\n",
        "    ### BEGIN SOLUTION\n",
        "    for i in range(N):\n",
        "        solution = random.uniform(x_min, x_max)\n",
        "        out.append(solution)\n",
        "    ### END SOLUTION\n",
        "    return out"
      ]
    },
    {
      "cell_type": "code",
      "execution_count": 25,
      "metadata": {
        "colab": {
          "base_uri": "https://localhost:8080/"
        },
        "id": "E8RGBFc1Ipv4",
        "outputId": "142eabe2-709b-4965-a365-886526784ea5"
      },
      "outputs": [
        {
          "output_type": "stream",
          "name": "stdout",
          "text": [
            "Data Type: <class 'list'>\n",
            "Data Length: 1000\n",
            "Type of Data Contents: <class 'float'>\n",
            "Data Minimum: -9.998796552097778\n",
            "Data Maximum: 9.971658465991744\n"
          ]
        }
      ],
      "source": [
        "# Test your solution here\n",
        "data=generate_uniform(1000,-10,10)\n",
        "print (\"Data Type:\", type(data))\n",
        "print (\"Data Length:\", len(data))\n",
        "if len(data)>0:\n",
        "    print (\"Type of Data Contents:\", type(data[0]))\n",
        "    print (\"Data Minimum:\", min(data))\n",
        "    print (\"Data Maximum:\", max(data))"
      ]
    },
    {
      "cell_type": "markdown",
      "metadata": {
        "id": "xnQrrjm5Ipv4"
      },
      "source": [
        "*Exercise 2a:*\n",
        "Write a function that computes the mean of values in a list. Recall the equation for the mean of a random variable $\\bf{x}$ computed on a data set of $n$ values $\\{ x_i \\} = \\{x_1, x_2, ..., x_n\\}$  is ${\\bf\\bar{x}} = \\frac{1}{n} \\sum_i^n x_i$."
      ]
    },
    {
      "cell_type": "code",
      "execution_count": 26,
      "metadata": {
        "id": "AJKr5WTXIpv4"
      },
      "outputs": [],
      "source": [
        "def mean(Data):\n",
        "    m=0.\n",
        "    ### BEGIN SOLUTION\n",
        "    if len(Data) == 0:\n",
        "      return 0\n",
        "    m = sum(Data) / len(Data)\n",
        "    ### END SOLUTION\n",
        "    return m\n"
      ]
    },
    {
      "cell_type": "code",
      "execution_count": 27,
      "metadata": {
        "id": "9B6LPHgFIpv4",
        "colab": {
          "base_uri": "https://localhost:8080/"
        },
        "outputId": "ad65d3cb-d82d-441c-d83b-2906b7ef9393"
      },
      "outputs": [
        {
          "output_type": "stream",
          "name": "stdout",
          "text": [
            "Mean of Data: 0.2933380067384533\n"
          ]
        }
      ],
      "source": [
        "# Test your solution here\n",
        "print (\"Mean of Data:\", mean(data))"
      ]
    },
    {
      "cell_type": "markdown",
      "metadata": {
        "id": "ybqP3viHIpv5"
      },
      "source": [
        "*Exercise 2b:*\n",
        "Write a function that computes the variance of values in a list. Recall the equation for the variance of a random variable $\\bf{x}$ computed on a data set of $n$ values $\\{ x_i \\} = \\{x_1, x_2, ..., x_n\\}$  is ${\\bf\\langle x \\rangle} = \\frac{1}{n} \\sum_i^n (x_i - {\\bf\\bar{x}})$."
      ]
    },
    {
      "cell_type": "code",
      "execution_count": 28,
      "metadata": {
        "id": "v23GPYEYIpv5"
      },
      "outputs": [],
      "source": [
        "def variance(Data):\n",
        "    m=0.\n",
        "    ### BEGIN SOLUTION\n",
        "    if len(Data) == 0:\n",
        "      return 0\n",
        "    mean_data = sum(Data) / len(Data)\n",
        "    variance_data = sum([(x - mean_data)**2 for x in Data]) / len(Data)\n",
        "    return variance_data\n",
        "    ### END SOLUTION\n"
      ]
    },
    {
      "cell_type": "code",
      "execution_count": 29,
      "metadata": {
        "id": "WPDHVB48Ipv5",
        "colab": {
          "base_uri": "https://localhost:8080/"
        },
        "outputId": "9d607bf6-e5a5-4203-aaa6-0825ed96e186"
      },
      "outputs": [
        {
          "output_type": "stream",
          "name": "stdout",
          "text": [
            "Variance of Data: 34.186832175273175\n"
          ]
        }
      ],
      "source": [
        "# Test your solution here\n",
        "print (\"Variance of Data:\", variance(data))"
      ]
    },
    {
      "cell_type": "markdown",
      "metadata": {
        "id": "PHYVbxd7Ipv6"
      },
      "source": [
        "## Histogramming"
      ]
    },
    {
      "cell_type": "markdown",
      "metadata": {
        "id": "cfBlOJVPIpv6"
      },
      "source": [
        "*Exercise 3:* Write a function that bins the data so that you can create a histogram. An example of how to implement histogramming is the following logic:\n",
        "\n",
        "* User inputs a list of values `x` and optionally `n_bins` which defaults to 10.\n",
        "* If not supplied, find the minimum and maximum (`x_min`,`x_max`) of the values in x.\n",
        "* Determine the bin size (`bin_size`) by dividing the range of the function by the number of bins.\n",
        "* Create an empty list of zeros of size `n_bins`, call it `hist`.\n",
        "* Loop over the values in `x`\n",
        "    * Loop over the values in `hist` with index `i`:\n",
        "        * If x is between `x_min+i*bin_size` and `x_min+(i+1)*bin_size`, increment `hist[i].`\n",
        "        * For efficiency, try to use continue to goto the next bin and data point.\n",
        "* Return `hist` and the list corresponding of the bin edges (i.e. of `x_min+i*bin_size`).    "
      ]
    },
    {
      "cell_type": "code",
      "source": [
        "def histogram(x, n_bins=10):\n",
        "    x_min = min(x)\n",
        "    x_max = max(x)\n",
        "    bin_size = (x_max - x_min) / n_bins\n",
        "    hist = [0] * n_bins\n",
        "    bin_edges = [x_min + i * bin_size for i in range(n_bins + 1)]\n",
        "\n",
        "    for value in x:\n",
        "        for i in range(n_bins):\n",
        "            if x_min + i * bin_size <= value < x_min + (i + 1) * bin_size:\n",
        "                hist[i] += 1\n",
        "                break  # Go to the next data point\n",
        "\n",
        "    return hist, bin_edges"
      ],
      "metadata": {
        "id": "uB8pJb-QXwl2"
      },
      "execution_count": 30,
      "outputs": []
    },
    {
      "cell_type": "code",
      "execution_count": 31,
      "metadata": {
        "id": "vCGvRNyvIpv6",
        "colab": {
          "base_uri": "https://localhost:8080/"
        },
        "outputId": "715fc2df-2196-4485-e497-69073e755753"
      },
      "outputs": [
        {
          "output_type": "stream",
          "name": "stdout",
          "text": [
            "[18, 10, 11, 8, 9, 9, 14, 8, 6, 9, 9, 3, 9, 7, 10, 5, 11, 7, 6, 9, 7, 12, 9, 12, 12, 12, 14, 8, 13, 13, 5, 12, 11, 10, 15, 6, 9, 4, 13, 14, 8, 13, 6, 11, 8, 10, 11, 8, 7, 5, 9, 7, 8, 13, 9, 13, 10, 8, 13, 9, 8, 8, 12, 10, 13, 7, 13, 10, 11, 7, 5, 15, 9, 6, 13, 7, 19, 14, 12, 9, 12, 10, 9, 11, 6, 12, 13, 8, 13, 11, 7, 11, 15, 9, 7, 12, 13, 10, 18, 10]\n"
          ]
        }
      ],
      "source": [
        "# Test your solution here\n",
        "h,b=histogram(data,100)\n",
        "print(h)"
      ]
    },
    {
      "cell_type": "markdown",
      "metadata": {
        "id": "QzMnZxeOIpv7"
      },
      "source": [
        "*Exercise 4:* Write a function that uses the histogram function in the previous exercise to create a text-based \"graph\". For example the output could look like the following:\n",
        "```\n",
        "[  0,  1] : ######\n",
        "[  1,  2] : #####\n",
        "[  2,  3] : ######\n",
        "[  3,  4] : ####\n",
        "[  4,  5] : ####\n",
        "[  5,  6] : ######\n",
        "[  6,  7] : #####\n",
        "[  7,  8] : ######\n",
        "[  8,  9] : ####\n",
        "[  9, 10] : #####\n",
        "```\n",
        "\n",
        "Where each line corresponds to a bin and the number of `#`'s are proportional to the value of the data in the bin."
      ]
    },
    {
      "cell_type": "code",
      "execution_count": 32,
      "metadata": {
        "id": "nEQTUQdSIpv7"
      },
      "outputs": [],
      "source": [
        "def draw_histogram(x,n_bins,x_min=None,x_max=None,character=\"#\",max_character_per_line=20):\n",
        "    h,b = histogram(x,n_bins)\n",
        "    if x_min is None:\n",
        "        x_min = min(x)\n",
        "    if x_max is None:\n",
        "        x_max = max(x)\n",
        "    max_h = max(h)\n",
        "    if max_h == 0:\n",
        "        max_h = 1\n",
        "    for i in range(n_bins):\n",
        "        num_char = int(h[i] / max_h * max_character_per_line)\n",
        "        print(\"[\",round(b[i],2),\",\",round(b[i+1],2),\"] :\",character * num_char)"
      ]
    },
    {
      "cell_type": "code",
      "execution_count": 44,
      "metadata": {
        "id": "XGmfBYOcIpv7",
        "colab": {
          "base_uri": "https://localhost:8080/"
        },
        "outputId": "63ee23c9-bb90-45de-852c-6b5eae485036"
      },
      "outputs": [
        {
          "output_type": "stream",
          "name": "stdout",
          "text": [
            "[ -10.0 , -9.0 ] : #################\n",
            "[ -9.0 , -8.0 ] : ##############\n",
            "[ -8.0 , -7.0 ] : ############\n",
            "[ -7.0 , -6.0 ] : ############\n",
            "[ -6.0 , -5.01 ] : ################\n",
            "[ -5.01 , -4.01 ] : ###################\n",
            "[ -4.01 , -3.01 ] : ################\n",
            "[ -3.01 , -2.01 ] : ##############\n",
            "[ -2.01 , -1.01 ] : ##############\n",
            "[ -1.01 , -0.01 ] : #############\n",
            "[ -0.01 , 0.98 ] : ##############\n",
            "[ 0.98 , 1.98 ] : ################\n",
            "[ 1.98 , 2.98 ] : ################\n",
            "[ 2.98 , 3.98 ] : ###############\n",
            "[ 3.98 , 4.98 ] : ###############\n",
            "[ 4.98 , 5.98 ] : ###################\n",
            "[ 5.98 , 6.98 ] : ###############\n",
            "[ 6.98 , 7.97 ] : ##################\n",
            "[ 7.97 , 8.97 ] : ###############\n",
            "[ 8.97 , 9.97 ] : ####################\n"
          ]
        }
      ],
      "source": [
        "# Test your solution here\n",
        "h,b=histogram(data,20)\n",
        "draw_histogram(data,20)"
      ]
    },
    {
      "cell_type": "markdown",
      "metadata": {
        "id": "KiOcj9WsIpv7"
      },
      "source": [
        "## Functional Programming\n",
        "\n",
        "*Exercise 5:* Write a function the applies a booling function (that returns true/false) to every element in data, and return a list of indices of elements where the result was true. Use this function to find the indices of entries greater than 0.5."
      ]
    },
    {
      "cell_type": "code",
      "execution_count": 34,
      "metadata": {
        "id": "0zerIiW8Ipv8"
      },
      "outputs": [],
      "source": [
        "def where(mylist,myfunc):\n",
        "    out= []\n",
        "    for i in range(len(mylist)):\n",
        "        if myfunc(mylist[i]):\n",
        "            out.append(i)\n",
        "    return out"
      ]
    },
    {
      "cell_type": "code",
      "execution_count": 35,
      "metadata": {
        "id": "6W7WvVKKIpv8",
        "colab": {
          "base_uri": "https://localhost:8080/"
        },
        "outputId": "2018c43c-c2f4-47f5-f23e-bcd0b08744a4"
      },
      "outputs": [
        {
          "output_type": "stream",
          "name": "stdout",
          "text": [
            "[2, 7, 8, 11, 12, 13, 15, 16, 17, 20, 21, 22, 23, 24, 25, 29, 30, 32, 33, 37, 39, 40, 41, 42, 44, 46, 47, 49, 50, 51, 52, 58, 62, 63, 64, 67, 68, 71, 73, 75, 76, 77, 80, 85, 88, 89, 90, 91, 92, 93, 99, 103, 105, 106, 107, 108, 111, 114, 115, 118, 119, 120, 121, 122, 123, 125, 127, 130, 132, 136, 138, 139, 141, 143, 146, 147, 151, 152, 155, 156, 157, 158, 160, 162, 165, 166, 168, 169, 170, 171, 172, 173, 174, 175, 176, 178, 181, 184, 185, 187, 188, 191, 192, 193, 194, 195, 196, 198, 202, 203, 206, 210, 211, 215, 217, 219, 221, 222, 223, 225, 226, 227, 229, 232, 235, 239, 241, 244, 248, 249, 250, 251, 252, 254, 255, 257, 259, 261, 266, 267, 270, 271, 272, 274, 275, 276, 278, 279, 283, 284, 287, 288, 289, 290, 292, 295, 296, 298, 301, 302, 305, 306, 307, 309, 311, 313, 315, 316, 317, 319, 322, 323, 327, 330, 332, 334, 336, 337, 338, 339, 340, 342, 343, 344, 347, 348, 349, 351, 353, 354, 359, 360, 361, 363, 364, 365, 369, 373, 374, 377, 378, 379, 381, 386, 390, 391, 393, 395, 397, 399, 403, 404, 405, 406, 408, 412, 413, 415, 416, 418, 421, 424, 425, 427, 428, 430, 431, 433, 439, 440, 442, 443, 444, 446, 447, 449, 451, 453, 454, 456, 461, 464, 466, 467, 468, 474, 475, 478, 485, 486, 487, 490, 492, 493, 495, 497, 499, 501, 503, 507, 510, 511, 513, 518, 519, 520, 521, 523, 524, 530, 531, 532, 534, 537, 539, 540, 541, 544, 545, 549, 552, 553, 556, 558, 560, 561, 563, 569, 571, 572, 573, 574, 577, 579, 580, 583, 584, 588, 589, 591, 592, 596, 599, 600, 601, 602, 603, 604, 605, 606, 607, 611, 612, 613, 615, 616, 617, 627, 630, 631, 632, 634, 636, 639, 640, 644, 645, 646, 649, 652, 655, 657, 660, 662, 663, 665, 668, 669, 674, 677, 679, 681, 683, 684, 687, 689, 694, 695, 697, 698, 701, 702, 703, 707, 708, 710, 711, 715, 718, 719, 720, 721, 722, 723, 724, 725, 728, 730, 731, 732, 733, 734, 735, 737, 738, 740, 742, 743, 745, 747, 748, 750, 752, 754, 755, 757, 761, 764, 770, 771, 773, 775, 776, 777, 778, 780, 783, 784, 787, 788, 789, 790, 792, 793, 795, 797, 798, 801, 805, 807, 809, 815, 818, 819, 821, 822, 823, 825, 829, 831, 832, 833, 835, 836, 838, 839, 844, 845, 846, 848, 851, 852, 853, 854, 855, 857, 859, 860, 865, 867, 870, 871, 872, 876, 877, 879, 880, 881, 882, 886, 887, 888, 890, 893, 894, 895, 896, 898, 899, 903, 904, 905, 907, 909, 912, 915, 917, 920, 921, 922, 923, 925, 927, 928, 929, 933, 936, 937, 940, 942, 943, 945, 948, 949, 950, 951, 953, 955, 959, 961, 963, 964, 968, 971, 975, 977, 982, 987, 988, 990, 992, 994, 995, 996, 998]\n"
          ]
        }
      ],
      "source": [
        "def greater_than_0_5(x):\n",
        "  return x > 0.5\n",
        "\n",
        "indices = where(data, greater_than_0_5)\n",
        "print(indices)"
      ]
    },
    {
      "cell_type": "markdown",
      "metadata": {
        "id": "6dZN17USIpv8"
      },
      "source": [
        "*Exercise 6:* The `inrange(mymin,mymax)` function below returns a function that tests if it's input is between the specified values. Write corresponding functions that test:\n",
        "* Even\n",
        "* Odd\n",
        "* Greater than\n",
        "* Less than\n",
        "* Equal\n",
        "* Divisible by"
      ]
    },
    {
      "cell_type": "code",
      "execution_count": 36,
      "metadata": {
        "id": "cM5d0d4wIpv8",
        "colab": {
          "base_uri": "https://localhost:8080/"
        },
        "outputId": "3aae7e79-52c3-4ac0-ebe6-3d61fe69f502"
      },
      "outputs": [
        {
          "output_type": "stream",
          "name": "stdout",
          "text": [
            "True True False False False\n",
            "False False True True False\n",
            "Number of Entries passing F1: 524\n",
            "Number of Entries passing F2: 0\n"
          ]
        }
      ],
      "source": [
        "def in_range(mymin,mymax):\n",
        "    def testrange(x):\n",
        "        return x<mymax and x>=mymin\n",
        "    return testrange\n",
        "\n",
        "# Examples:\n",
        "F1=in_range(0,10)\n",
        "F2=in_range(10,20)\n",
        "\n",
        "# Test of in_range\n",
        "print (F1(0), F1(1), F1(10), F1(15), F1(20))\n",
        "print (F2(0), F2(1), F2(10), F2(15), F2(20))\n",
        "\n",
        "print (\"Number of Entries passing F1:\", len(where(data,F1)))\n",
        "print (\"Number of Entries passing F2:\", len(where(data,F2)))"
      ]
    },
    {
      "cell_type": "code",
      "execution_count": 37,
      "metadata": {
        "id": "dCDIf_01Ipv9"
      },
      "outputs": [],
      "source": [
        "def is_even(x):\n",
        "  return x % 2 == 0\n",
        "\n",
        "def is_odd(x):\n",
        "  return x % 2 != 0\n",
        "\n",
        "def greater_than(value):\n",
        "  def test_greater_than(x):\n",
        "    return x > value\n",
        "  return test_greater_than\n",
        "\n",
        "def less_than(value):\n",
        "  def test_less_than(x):\n",
        "    return x < value\n",
        "  return test_less_than\n",
        "\n",
        "def equal_to(value):\n",
        "  def test_equal_to(x):\n",
        "    return x == value\n",
        "  return test_equal_to\n",
        "\n",
        "def divisible_by(divisor):\n",
        "  def test_divisible_by(x):\n",
        "    return x % divisor == 0\n",
        "  return test_divisible_by\n"
      ]
    },
    {
      "cell_type": "code",
      "execution_count": 38,
      "metadata": {
        "id": "6At_d_VnIpv9",
        "colab": {
          "base_uri": "https://localhost:8080/"
        },
        "outputId": "3bb530c1-d668-4906-df8c-1442044470fa"
      },
      "outputs": [
        {
          "output_type": "stream",
          "name": "stdout",
          "text": [
            "Number of even entries: 0\n",
            "Number of odd entries: 1000\n",
            "Number of entries greater than 5: 278\n",
            "Number of entries less than 5: 722\n",
            "Number of entries equal to 0: 0\n",
            "Number of entries divisible by 3: 0\n"
          ]
        }
      ],
      "source": [
        "# Test is_even\n",
        "print(\"Number of even entries:\", len(where(data, is_even)))\n",
        "\n",
        "# Test is_odd\n",
        "print(\"Number of odd entries:\", len(where(data, is_odd)))\n",
        "\n",
        "# Test greater_than\n",
        "greater_than_5 = greater_than(5)\n",
        "print(\"Number of entries greater than 5:\", len(where(data, greater_than_5)))\n",
        "\n",
        "# Test less_than\n",
        "less_than_5 = less_than(5)\n",
        "print(\"Number of entries less than 5:\", len(where(data, less_than_5)))\n",
        "\n",
        "# Test equal_to\n",
        "equal_to_0 = equal_to(0)\n",
        "print(\"Number of entries equal to 0:\", len(where(data, equal_to_0)))\n",
        "\n",
        "# Test divisible_by\n",
        "divisible_by_3 = divisible_by(3)\n",
        "print(\"Number of entries divisible by 3:\", len(where(data, divisible_by_3)))\n"
      ]
    },
    {
      "cell_type": "markdown",
      "metadata": {
        "id": "BUgrWmUaIpv9"
      },
      "source": [
        "*Exercise 7:* Repeat the previous exercise using `lambda` and the built-in python functions sum and map instead of your solution above."
      ]
    },
    {
      "cell_type": "code",
      "source": [
        "F1 = lambda x: 0 <= x < 10\n",
        "F2 = lambda x: 10 <= x < 20\n",
        "\n",
        "print(\"Number of Entries passing F1:\", sum(map(F1, data)))\n",
        "print(\"Number of Entries passing F2:\", sum(map(F2, data)))\n",
        "\n",
        "# is_even\n",
        "is_even_lambda = lambda x: x % 2 == 0\n",
        "print(\"Number of even entries:\", sum(map(is_even_lambda, data)))\n",
        "\n",
        "# is_odd\n",
        "is_odd_lambda = lambda x: x % 2 != 0\n",
        "print(\"Number of odd entries:\", sum(map(is_odd_lambda, data)))\n",
        "\n",
        "# greater_than\n",
        "greater_than_5_lambda = lambda x: x > 5\n",
        "print(\"Number of entries greater than 5:\", sum(map(greater_than_5_lambda, data)))\n",
        "\n",
        "# less_than\n",
        "less_than_5_lambda = lambda x: x < 5\n",
        "print(\"Number of entries less than 5:\", sum(map(less_than_5_lambda, data)))\n",
        "\n",
        "# equal_to\n",
        "equal_to_0_lambda = lambda x: x == 0\n",
        "print(\"Number of entries equal to 0:\", sum(map(equal_to_0_lambda, data)))\n",
        "\n",
        "# divisible_by\n",
        "divisible_by_3_lambda = lambda x: x % 3 == 0\n",
        "print(\"Number of entries divisible by 3:\", sum(map(divisible_by_3_lambda, data)))"
      ],
      "metadata": {
        "colab": {
          "base_uri": "https://localhost:8080/"
        },
        "id": "YXP_exjag2mr",
        "outputId": "ba2300a4-3451-42de-f4ff-5cc931577f17"
      },
      "execution_count": 39,
      "outputs": [
        {
          "output_type": "stream",
          "name": "stdout",
          "text": [
            "Number of Entries passing F1: 524\n",
            "Number of Entries passing F2: 0\n",
            "Number of even entries: 0\n",
            "Number of odd entries: 1000\n",
            "Number of entries greater than 5: 278\n",
            "Number of entries less than 5: 722\n",
            "Number of entries equal to 0: 0\n",
            "Number of entries divisible by 3: 0\n"
          ]
        }
      ]
    },
    {
      "cell_type": "markdown",
      "metadata": {
        "id": "USEDFZguIpv9"
      },
      "source": [
        "## Monte Carlo\n",
        "\n",
        "*Exercise 7:* Write a \"generator\" function called `generate_function(func,x_min,x_max,N)`, that instead of generating a flat distribution, generates a distribution with functional form coded in `func`. Note that `func` will always be > 0.  \n",
        "\n",
        "Use the test function below and your histogramming functions above to demonstrate that your generator is working properly.\n",
        "\n",
        "Hint: A simple, but slow, solution is to a draw random number `test_x` within the specified range and another number `p` between the `min` and `max` of the function (which you will have to determine). If `p<=function(test_x)`, then place `test_x` on the output. If not, repeat the process, drawing two new numbers. Repeat until you have the specified number of generated numbers, `N`. For this problem, it's OK to determine the `min` and `max` by numerically sampling the function.  "
      ]
    },
    {
      "cell_type": "code",
      "execution_count": 40,
      "metadata": {
        "id": "2C9znfQbIpv-"
      },
      "outputs": [],
      "source": [
        "def generate_function(func,x_min,x_max,N=1000):\n",
        "    out = []\n",
        "    while len(out) < N:\n",
        "        test_x = random.uniform(x_min, x_max)\n",
        "        func_min = func(x_min)\n",
        "        func_max = func(x_min)\n",
        "\n",
        "        for i in range(100):\n",
        "          x = x_min + (x_max - x_min) * i / 100\n",
        "          func_val = func(x)\n",
        "          if func_val < func_min:\n",
        "            func_min = func_val\n",
        "          if func_val > func_max:\n",
        "            func_max = func_val\n",
        "\n",
        "        p = random.uniform(func_min, func_max)\n",
        "\n",
        "        if p <= func(test_x):\n",
        "            out.append(test_x)\n",
        "\n",
        "    return out"
      ]
    },
    {
      "cell_type": "code",
      "execution_count": 41,
      "metadata": {
        "id": "nlZF1GOqIpv-"
      },
      "outputs": [],
      "source": [
        "# A test function\n",
        "def test_func(x,a=1,b=1):\n",
        "    return abs(a*x+b)"
      ]
    },
    {
      "cell_type": "markdown",
      "metadata": {
        "id": "EpDAOuXKIpv-"
      },
      "source": [
        "*Exercise 8:* Use your function to generate 1000 numbers that are normal distributed, using the `gaussian` function below. Confirm the mean and variance of the data is close to the mean and variance you specify when building the Gaussian. Histogram the data."
      ]
    },
    {
      "cell_type": "code",
      "execution_count": 42,
      "metadata": {
        "id": "830qFcaEIpv_",
        "colab": {
          "base_uri": "https://localhost:8080/"
        },
        "outputId": "64a21939-176d-4f65-e15e-e019df43261b"
      },
      "outputs": [
        {
          "output_type": "stream",
          "name": "stdout",
          "text": [
            "Generated Mean: 5.005594591675373\n",
            "Generated Variance: 3.8427208328904916\n",
            "Target Mean: 5\n",
            "Target Sigma: 2\n",
            "[ -0.31 , 0.25 ] : \n",
            "[ 0.25 , 0.8 ] : #\n",
            "[ 0.8 , 1.35 ] : ###\n",
            "[ 1.35 , 1.9 ] : ###\n",
            "[ 1.9 , 2.45 ] : #######\n",
            "[ 2.45 , 3.01 ] : ###########\n",
            "[ 3.01 , 3.56 ] : ##############\n",
            "[ 3.56 , 4.11 ] : ##############\n",
            "[ 4.11 , 4.66 ] : ###############\n",
            "[ 4.66 , 5.21 ] : ####################\n",
            "[ 5.21 , 5.77 ] : #################\n",
            "[ 5.77 , 6.32 ] : ################\n",
            "[ 6.32 , 6.87 ] : #############\n",
            "[ 6.87 , 7.42 ] : ##########\n",
            "[ 7.42 , 7.97 ] : #######\n",
            "[ 7.97 , 8.52 ] : #####\n",
            "[ 8.52 , 9.08 ] : ##\n",
            "[ 9.08 , 9.63 ] : #\n",
            "[ 9.63 , 10.18 ] : #\n",
            "[ 10.18 , 10.73 ] : \n"
          ]
        }
      ],
      "source": [
        "import math\n",
        "\n",
        "def gaussian(mean, sigma):\n",
        "    def f(x):\n",
        "        return math.exp(-((x-mean)**2)/(2*sigma**2))/math.sqrt(math.pi*sigma)\n",
        "    return f\n",
        "\n",
        "# Example Instantiation\n",
        "g1=gaussian(0,1)\n",
        "g2=gaussian(10,3)\n",
        "\n",
        "mean_val = 5\n",
        "sigma_val = 2\n",
        "gaussian_func = gaussian(mean_val, sigma_val)\n",
        "data_normal = generate_function(gaussian_func, mean_val - 3 * sigma_val, mean_val + 3 * sigma_val, N=1000)\n",
        "\n",
        "# Calculate the mean and variance of the generated data\n",
        "mean_generated = mean(data_normal)\n",
        "variance_generated = variance(data_normal)\n",
        "\n",
        "print(\"Generated Mean:\", mean_generated)\n",
        "print(\"Generated Variance:\", variance_generated)\n",
        "print(\"Target Mean:\", mean_val)\n",
        "print(\"Target Sigma:\", sigma_val)\n",
        "\n",
        "# Histogram the data\n",
        "draw_histogram(data_normal, 20)\n"
      ]
    },
    {
      "cell_type": "markdown",
      "metadata": {
        "id": "EldwrzFcIpv_"
      },
      "source": [
        "*Exercise 9:* Combine your `generate_function`, `where`, and `in_range` functions above to create an integrate function. Use your integrate function to show that approximately 68% of Normal distribution is within one variance."
      ]
    },
    {
      "cell_type": "code",
      "execution_count": 43,
      "metadata": {
        "id": "5Z2HG920Ipv_",
        "colab": {
          "base_uri": "https://localhost:8080/"
        },
        "outputId": "d6962993-ef5d-40bc-95bd-dd5b72351433"
      },
      "outputs": [
        {
          "output_type": "stream",
          "name": "stdout",
          "text": [
            "Integral within one standard deviation: 0.9678828980765735\n"
          ]
        }
      ],
      "source": [
        "def integrate(func, x_min, x_max, n_points=1000):\n",
        "    data = generate_function(func, x_min, x_max, n_points)\n",
        "    in_range_func = in_range(x_min, x_max)\n",
        "    num_in_range = len(where(data, in_range_func))\n",
        "    integral = (num_in_range / n_points) * (x_max - x_min) * max([func(x) for x in [x_min, x_max]])\n",
        "    return integral\n",
        "\n",
        "# Example usage with a Gaussian distribution\n",
        "mean_val = 5\n",
        "sigma_val = 2\n",
        "gaussian_func = gaussian(mean_val, sigma_val)\n",
        "\n",
        "# Calculate the integral within one standard deviation\n",
        "integral_within_one_std = integrate(gaussian_func, mean_val - sigma_val, mean_val + sigma_val, n_points=10000)\n",
        "\n",
        "print(\"Integral within one standard deviation:\", integral_within_one_std)\n"
      ]
    }
  ],
  "metadata": {
    "kernelspec": {
      "display_name": "Python 3 (ipykernel)",
      "language": "python",
      "name": "python3"
    },
    "language_info": {
      "codemirror_mode": {
        "name": "ipython",
        "version": 3
      },
      "file_extension": ".py",
      "mimetype": "text/x-python",
      "name": "python",
      "nbconvert_exporter": "python",
      "pygments_lexer": "ipython3",
      "version": "3.9.6"
    },
    "colab": {
      "provenance": []
    }
  },
  "nbformat": 4,
  "nbformat_minor": 0
}