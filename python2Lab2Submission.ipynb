{
  "cells": [
    {
      "cell_type": "markdown",
      "metadata": {
        "id": "eGNtIbQX45XL"
      },
      "source": [
        "## Lab 2- Tic Tac Toe\n",
        "\n",
        "In this lab your will build a n x n Tic Tac Toe game. As you do the exercises, make sure your solutions work for any size Tic Tac Toe game."
      ]
    },
    {
      "cell_type": "markdown",
      "metadata": {
        "id": "or38nhCh45XP"
      },
      "source": [
        "*Exercise 1:* Write a function that creates an n by n matrix (of list of lists) which will represent the state of a Tie Tac Toe game. Let 0, 1, and 2 represent empty, \"X\", and \"O\", respectively.\n"
      ]
    },
    {
      "cell_type": "code",
      "execution_count": 10,
      "metadata": {
        "collapsed": true,
        "id": "MiA9sAOi45XR"
      },
      "outputs": [],
      "source": [
        "# Write you solution here\n",
        "player_1 = \"X\"\n",
        "player_2 = \"O\"\n",
        "empty = 0"
      ]
    },
    {
      "cell_type": "code",
      "execution_count": 11,
      "metadata": {
        "collapsed": true,
        "id": "SYri_Wp545XS"
      },
      "outputs": [],
      "source": [
        "# Test your solution here\n",
        "player_1 = \"X\"\n",
        "player_2 = \"O\"\n",
        "empty = 0"
      ]
    },
    {
      "cell_type": "markdown",
      "metadata": {
        "id": "PaTmg4cz45XT"
      },
      "source": [
        "*Exercise 2:* Write a function that takes 2 integers `n` and `m` as input and draws a `n` by `m` game board. For example the following is a 3x3 board:\n",
        "```\n",
        "   --- --- ---\n",
        "  |   |   |   |\n",
        "   --- --- ---  \n",
        "  |   |   |   |\n",
        "   --- --- ---  \n",
        "  |   |   |   |\n",
        "   --- --- ---\n",
        "   ```"
      ]
    },
    {
      "cell_type": "code",
      "execution_count": 12,
      "metadata": {
        "collapsed": true,
        "id": "orNZesj045XT"
      },
      "outputs": [],
      "source": [
        "# Write you solution here\n",
        "n = 3\n",
        "m = 3\n",
        "land = list()\n",
        "for i in range(n):\n",
        "    row = list()\n",
        "    for j in range(m):\n",
        "        row.append(empty)\n",
        "\n",
        "    land.append(row)\n",
        "\n",
        "def create_game_board():\n",
        "    for i in range(n):\n",
        "        print(\"\\n\", end=\"\")\n",
        "        print(\" ---\" * m)\n",
        "        print(\"|\", end=\"\")\n",
        "        for j in range(m):\n",
        "            print(\"\",land[i][j], end= \" |\" )\n",
        "    print(\"\\n\", end=\"\")\n",
        "    print(\" ---\" * m)"
      ]
    },
    {
      "cell_type": "code",
      "execution_count": 13,
      "metadata": {
        "collapsed": true,
        "colab": {
          "base_uri": "https://localhost:8080/"
        },
        "id": "5oFLVVKv45XU",
        "outputId": "a1524b22-7c25-4342-806c-1df2fe9b1c42"
      },
      "outputs": [
        {
          "output_type": "stream",
          "name": "stdout",
          "text": [
            "\n",
            " --- --- ---\n",
            "| 0 | 0 | 0 |\n",
            " --- --- ---\n",
            "| 0 | 0 | 0 |\n",
            " --- --- ---\n",
            "| 0 | 0 | 0 |\n",
            " --- --- ---\n"
          ]
        }
      ],
      "source": [
        "# Test your solution here\n",
        "board_0 = create_game_board()"
      ]
    },
    {
      "cell_type": "markdown",
      "metadata": {
        "id": "S-Kpoq3x45XV"
      },
      "source": [
        "*Exercise 3:* Modify exercise 2, so that it takes a matrix of the form from exercise 1 and draws a tic-tac-tie board with \"X\"s and \"O\"s.  "
      ]
    },
    {
      "cell_type": "code",
      "execution_count": 14,
      "metadata": {
        "collapsed": true,
        "id": "Rw38k0QQ45XV"
      },
      "outputs": [],
      "source": [
        "# Write you solution here\n",
        "n = 3\n",
        "m = 3\n",
        "land = list()\n",
        "for i in range(n):\n",
        "    row = list()\n",
        "    for j in range(m):\n",
        "        row.append(empty)\n",
        "\n",
        "    land.append(row)\n",
        "\n",
        "pieces = 0\n",
        "\n",
        "for a in range(n):\n",
        "    for b in range(m):\n",
        "        if pieces:\n",
        "            land[a][b]=\"X\"\n",
        "            pieces-= 1\n",
        "        else:\n",
        "            land[a][b]=\"O\"\n",
        "            pieces+= 1\n",
        "\n",
        "\n",
        "def create_game_board():\n",
        "    for i in range(n):\n",
        "        print(\"\\n\", end=\"\")\n",
        "        print(\" ---\" * m)\n",
        "        print(\"|\", end=\"\")\n",
        "        for j in range(m):\n",
        "            print(\"\",land[i][j], end= \" |\" )\n",
        "    print(\"\\n\", end=\"\")\n",
        "    print(\" ---\" * m)\n"
      ]
    },
    {
      "cell_type": "code",
      "execution_count": 15,
      "metadata": {
        "collapsed": true,
        "id": "91fB6iEo45XW",
        "colab": {
          "base_uri": "https://localhost:8080/"
        },
        "outputId": "f0417e50-4be3-4d8b-c9e4-1c80bb5b1368"
      },
      "outputs": [
        {
          "output_type": "stream",
          "name": "stdout",
          "text": [
            "\n",
            " --- --- ---\n",
            "| O | X | O |\n",
            " --- --- ---\n",
            "| X | O | X |\n",
            " --- --- ---\n",
            "| O | X | O |\n",
            " --- --- ---\n"
          ]
        }
      ],
      "source": [
        "# Test your solution here\n",
        "board_0 = create_game_board()"
      ]
    },
    {
      "cell_type": "markdown",
      "metadata": {
        "id": "_vznE7cg45XX"
      },
      "source": [
        "*Exercise 4:* Write a function that takes a `n` by `n` matrix representing a tic-tac-toe game, and returns -1, 0, 1, or 2 indicating the game is incomplete, the game is a draw, player 1 has won, or player 2 has one, respectively. Here are some example inputs you can use to test your code:"
      ]
    },
    {
      "cell_type": "code",
      "execution_count": 16,
      "metadata": {
        "collapsed": true,
        "id": "eIg9Imlq45XX"
      },
      "outputs": [],
      "source": [
        "# Write you solution here\n",
        "n = 3\n",
        "land = list()\n",
        "for i in range(n):\n",
        "    row = list()\n",
        "    for j in range(n):\n",
        "        row.append(empty)\n",
        "\n",
        "    land.append(row)\n",
        "\n",
        "winner_is_2 = [[\"O\", \"O\", \" \"],\n",
        "\t[\"O\", \"X\", \" \"],\n",
        "\t[\"O\", \"X\", \"X\"]]\n",
        "\n",
        "winner_is_1 = [[\"X\", \"O\", \"O\"],\n",
        "\t[\"O\", \"X\", \"O\"],\n",
        "\t[\"O\", \" \", \"X\"]]\n",
        "\n",
        "winner_is_also_1 = [[\"X\", \"X\", \" \"],\n",
        "\t[\"O\", \"X\", \" \"],\n",
        "\t[\"O\", \"X\", \"O\"]]\n",
        "\n",
        "no_winner = [[\"X\", \"O\", \" \"],\n",
        "\t[\"O\", \"X\", \" \"],\n",
        "\t[\"O\", \"X\", \"O\"]]\n",
        "\n",
        "also_no_winner = [[\"X\", \"O\", \" \"],\n",
        "\t[\"O\", \"X\", \" \"],\n",
        "\t[\"O\", \"X\", \" \"]]\n",
        "\n",
        "\n",
        "def create_game_board(mine):\n",
        "    for i in range(n):\n",
        "        print(\"\\n\", end=\"\")\n",
        "        print(\" ---\" * n)\n",
        "        print(\"|\", end=\"\")\n",
        "        for j in range(n):\n",
        "            print(\"\",mine[i][j], end= \" |\" )\n",
        "    print(\"\\n\", end=\"\")\n",
        "    print(\" ---\" * n)\n"
      ]
    },
    {
      "cell_type": "code",
      "execution_count": 17,
      "metadata": {
        "collapsed": true,
        "id": "CUovjsun45XY",
        "colab": {
          "base_uri": "https://localhost:8080/"
        },
        "outputId": "4829aecc-93df-4c69-a485-b550509a5058"
      },
      "outputs": [
        {
          "output_type": "stream",
          "name": "stdout",
          "text": [
            "\n",
            " --- --- ---\n",
            "| X | O |   |\n",
            " --- --- ---\n",
            "| O | X |   |\n",
            " --- --- ---\n",
            "| O | X |   |\n",
            " --- --- ---\n"
          ]
        }
      ],
      "source": [
        "# Test your solution here\n",
        "board_0 = create_game_board(also_no_winner)"
      ]
    },
    {
      "cell_type": "code",
      "execution_count": 18,
      "metadata": {
        "collapsed": true,
        "id": "KRQzlx4q45XY"
      },
      "outputs": [],
      "source": [
        "winner_is_2 = [[2, 2, 0],\n",
        "\t[2, 1, 0],\n",
        "\t[2, 1, 1]]\n",
        "\n",
        "winner_is_1 = [[1, 2, 0],\n",
        "\t[2, 1, 0],\n",
        "\t[2, 1, 1]]\n",
        "\n",
        "winner_is_also_1 = [[0, 1, 0],\n",
        "\t[2, 1, 0],\n",
        "\t[2, 1, 1]]\n",
        "\n",
        "no_winner = [[1, 2, 0],\n",
        "\t[2, 1, 0],\n",
        "\t[2, 1, 2]]\n",
        "\n",
        "also_no_winner = [[1, 2, 0],\n",
        "\t[2, 1, 0],\n",
        "\t[2, 1, 0]]"
      ]
    },
    {
      "cell_type": "markdown",
      "metadata": {
        "id": "u55XLdai45XY"
      },
      "source": [
        "*Exercise 5:* Write a function that takes a game board, player number, and `(x,y)` coordinates and places \"X\" or \"O\" in the correct location of the game board. Make sure that you only allow filling previously empty locations. Return `True` or `False` to indicate successful placement of \"X\" or \"O\"."
      ]
    },
    {
      "cell_type": "code",
      "execution_count": 19,
      "metadata": {
        "collapsed": true,
        "id": "kgFgV5VG45XY"
      },
      "outputs": [],
      "source": [
        "n = 3\n",
        "land = list()\n",
        "for i in range(n):\n",
        "    row = list()\n",
        "    for j in range(n):\n",
        "        row.append(empty)\n",
        "\n",
        "    land.append(row)\n",
        "\n",
        "land = [[\" \", \"O\", \" \"],\n",
        "\t[\"O\", \"X\", \" \"],\n",
        "\t[\"O\", \"X\", \"X\"]]\n",
        "\n",
        "player = 1\n",
        "\n",
        "def create_game_board(mine,next_player,x,y):\n",
        "    x -= 1\n",
        "    y -= 1\n",
        "    print(\"Player\", next_player, \"turn:\")\n",
        "    if land[x][y]==\" \":\n",
        "        my_turn = True\n",
        "        land[x][y] = \"O\"\n",
        "    else:\n",
        "        my_turn = False\n",
        "    for i in range(n):\n",
        "        print(\"\\n\", end=\"\")\n",
        "        print(\" ---\" * n)\n",
        "        print(\"|\", end=\"\")\n",
        "        for j in range(n):\n",
        "            print(\"\",mine[i][j], end= \" |\" )\n",
        "    print(\"\\n\", end=\"\")\n",
        "    print(\" ---\" * n)\n",
        "    if my_turn:\n",
        "        print(\"Successful turn\")\n",
        "    else:\n",
        "        print(\"Invalid move\")\n",
        "    return(my_turn)"
      ]
    },
    {
      "cell_type": "code",
      "execution_count": 20,
      "metadata": {
        "collapsed": true,
        "colab": {
          "base_uri": "https://localhost:8080/"
        },
        "id": "IEgLRlKS45XY",
        "outputId": "7a2baf9e-54bb-4db8-cc46-0bf88959639e"
      },
      "outputs": [
        {
          "output_type": "stream",
          "name": "stdout",
          "text": [
            "Player 1 turn:\n",
            "\n",
            " --- --- ---\n",
            "| O | O |   |\n",
            " --- --- ---\n",
            "| O | X |   |\n",
            " --- --- ---\n",
            "| O | X | X |\n",
            " --- --- ---\n",
            "Successful turn\n"
          ]
        }
      ],
      "source": [
        "board_0 = create_game_board(land,player, 1,1)"
      ]
    },
    {
      "cell_type": "markdown",
      "metadata": {
        "id": "mDUAxjLM45XZ"
      },
      "source": [
        "*Exercise 6:* Modify Exercise 4 to show column and row labels so that players can specify location using \"A2\" or \"C1\"."
      ]
    },
    {
      "cell_type": "code",
      "execution_count": 21,
      "metadata": {
        "collapsed": true,
        "id": "gIrAIKQf45XZ"
      },
      "outputs": [],
      "source": [
        "n = 3\n",
        "board = list()\n",
        "for i in range(n):\n",
        "    row = list()\n",
        "    for j in range(n):\n",
        "        row.append(empty)\n",
        "\n",
        "    board.append(row)\n",
        "\n",
        "winner_is_2 = [[\"O\", \"O\", \" \"],\n",
        "\t[\"O\", \"X\", \" \"],\n",
        "\t[\"O\", \"X\", \"X\"]]\n",
        "\n",
        "winner_is_1 = [[\"X\", \"O\", \"O\"],\n",
        "\t[\"O\", \"X\", \"O\"],\n",
        "\t[\"O\", \" \", \"X\"]]\n",
        "\n",
        "winner_is_also_1 = [[\"X\", \"X\", \" \"],\n",
        "\t[\"O\", \"X\", \" \"],\n",
        "\t[\"O\", \"X\", \"O\"]]\n",
        "\n",
        "no_winner = [[\"X\", \"O\", \" \"],\n",
        "\t[\"O\", \"X\", \" \"],\n",
        "\t[\"O\", \"X\", \"O\"]]\n",
        "\n",
        "also_no_winner = [[\"X\", \"O\", \" \"],\n",
        "\t[\"O\", \"X\", \" \"],\n",
        "\t[\"O\", \"X\", \" \"]]\n",
        "\n",
        "row_names=list(\"ABCDEFGHIJKLMNOPQRSTUVWXYZ\")\n",
        "row_map=dict(zip(row_names,range(n)))\n",
        "column_names = list(map(str, range(1, n+1)))\n",
        "column_map = dict(zip(column_names, range(n)))\n",
        "\n",
        "\n",
        "def create_game_board(myBoard):\n",
        "    print(\"  \",end=\" \")\n",
        "    for j in range(n):\n",
        "        print(column_names[j],\"  \", end=\" \")\n",
        "\n",
        "    for i in range(n):\n",
        "        print(\"\\n\", end=\"\")\n",
        "        print(\"  ---\" * n)\n",
        "        print(row_names[i],end=\"\")\n",
        "\n",
        "        for j in range(n):\n",
        "            print(\" |\", end=\"\")\n",
        "            print(myBoard[i][j], end= \"| \" )\n",
        "    print(\"\\n\", end=\"\")\n",
        "    print(\"  ---\" * n)"
      ]
    },
    {
      "cell_type": "code",
      "execution_count": 22,
      "metadata": {
        "collapsed": true,
        "id": "-WdHsOtW45XZ",
        "colab": {
          "base_uri": "https://localhost:8080/"
        },
        "outputId": "593a4f4d-6678-463a-af1a-48516521bbfb"
      },
      "outputs": [
        {
          "output_type": "stream",
          "name": "stdout",
          "text": [
            "   1    2    3    \n",
            "  ---  ---  ---\n",
            "A |X|  |X|  | | \n",
            "  ---  ---  ---\n",
            "B |O|  |X|  | | \n",
            "  ---  ---  ---\n",
            "C |O|  |X|  |O| \n",
            "  ---  ---  ---\n"
          ]
        }
      ],
      "source": [
        "board_0 = create_game_board(winner_is_also_1)"
      ]
    },
    {
      "cell_type": "markdown",
      "metadata": {
        "id": "cr9T94rj45Xa"
      },
      "source": [
        "*Exercise 7:* Write a function that takes a board, player number, and location specified as in exercise 6 and then calls exercise 5 to correctly modify the board.  "
      ]
    },
    {
      "cell_type": "code",
      "execution_count": 23,
      "metadata": {
        "collapsed": true,
        "id": "kmVrvEbl45Xa"
      },
      "outputs": [],
      "source": [
        "n = 3\n",
        "board = list()\n",
        "for i in range(n):\n",
        "    row = list()\n",
        "    for j in range(n):\n",
        "        row.append(empty)\n",
        "\n",
        "    board.append(row)\n",
        "\n",
        "winner_is_2 = [[\" \", \" \", \" \"],\n",
        "\t[\" \", \" \", \" \"],\n",
        "\t[\" \", \" \", \" \"]]\n",
        "\n",
        "\n",
        "\n",
        "row_names=list(\"ABCDEFGHIJKLMNOPQRSTUVWXYZ\")\n",
        "row_map=dict(zip(row_names,range(n)))\n",
        "column_names = list(map(str, range(1, n+1)))\n",
        "column_map = dict(zip(column_names, range(n)))\n",
        "\n",
        "player = 1\n",
        "\n",
        "\n",
        "def parse_location(l_string):\n",
        "    if not isinstance(l_string,str):\n",
        "        print(\"Bad Input. Location must be string.\")\n",
        "        return False\n",
        "\n",
        "    if len(l_string)!=2:\n",
        "        print(\"Bad Input. Location must be 2 characters.\")\n",
        "        return False\n",
        "\n",
        "    row=l_string[0].upper()\n",
        "    col=l_string[1].upper()\n",
        "\n",
        "    if not row in row_names:\n",
        "        print(\"Bad Row.\")\n",
        "        return False\n",
        "\n",
        "    if not col in column_names:\n",
        "        print(\"Bad Column.\")\n",
        "        return False\n",
        "\n",
        "    return row_map[row],column_map[col]\n",
        "\n",
        "def create_game_board(myBoard,next_player,location):\n",
        "    parse_location(location)\n",
        "    R,C = location\n",
        "    x = row_map[R]\n",
        "    y = column_map[C]\n",
        "\n",
        "    if next_player == 1:\n",
        "            piece = \"X\"\n",
        "    elif next_player == 2:\n",
        "            piece = \"O\"\n",
        "    else:\n",
        "        print(\"Invalid player\")\n",
        "\n",
        "    print(\"Player\", next_player, \"turn:\")\n",
        "    if myBoard[x][y]==\" \":\n",
        "        my_turn = True\n",
        "        myBoard[x][y] = piece\n",
        "    else:\n",
        "        my_turn = False\n",
        "\n",
        "    print(\"  \",end=\" \")\n",
        "    for j in range(n):\n",
        "        print(column_names[j],\"  \", end=\" \")\n",
        "\n",
        "    for i in range(n):\n",
        "        print(\"\\n\", end=\"\")\n",
        "        print(\"  ---\" * n)\n",
        "        print(row_names[i],end=\"\")\n",
        "\n",
        "        for j in range(n):\n",
        "            print(\" |\", end=\"\")\n",
        "            print(myBoard[i][j], end= \"| \" )\n",
        "    print(\"\\n\", end=\"\")\n",
        "    print(\"  ---\" * n)\n",
        "    if my_turn:\n",
        "        print(\"Successful turn\")\n",
        "    else:\n",
        "        print(\"Invalid move\")\n",
        "    return(my_turn)"
      ]
    },
    {
      "cell_type": "code",
      "execution_count": 24,
      "metadata": {
        "collapsed": true,
        "id": "xvIDFA6p45Xa",
        "colab": {
          "base_uri": "https://localhost:8080/"
        },
        "outputId": "ba08e398-2675-4345-b81d-f805aa40ae22"
      },
      "outputs": [
        {
          "output_type": "stream",
          "name": "stdout",
          "text": [
            "Player 2 turn:\n",
            "   1    2    3    \n",
            "  ---  ---  ---\n",
            "A | |  | |  |O| \n",
            "  ---  ---  ---\n",
            "B | |  | |  | | \n",
            "  ---  ---  ---\n",
            "C | |  | |  | | \n",
            "  ---  ---  ---\n",
            "Successful turn\n"
          ]
        }
      ],
      "source": [
        "board_0 = create_game_board(winner_is_2, 2, \"A3\")"
      ]
    },
    {
      "cell_type": "markdown",
      "metadata": {
        "id": "AvvxKgDF45Xa"
      },
      "source": [
        "*Exercise 8:* Write a function is called with a board and player number, takes input from the player using python's `input`, and modifies the board using your function from exercise 7. Note that you should keep asking for input until you have gotten a valid input that results in a valid move."
      ]
    },
    {
      "cell_type": "code",
      "execution_count": 25,
      "metadata": {
        "collapsed": true,
        "id": "zErqD9UN45Xa"
      },
      "outputs": [],
      "source": [
        "n = 3\n",
        "board = list()\n",
        "for i in range(n):\n",
        "    row = list()\n",
        "    for j in range(n):\n",
        "        row.append(empty)\n",
        "\n",
        "    board.append(row)\n",
        "\n",
        "new_board = [[\" \", \" \", \" \"],\n",
        "\t[\" \", \" \", \" \"],\n",
        "\t[\" \", \" \", \" \"]]\n",
        "\n",
        "\n",
        "\n",
        "row_names=list(\"ABCDEFGHIJKLMNOPQRSTUVWXYZ\")\n",
        "row_map=dict(zip(row_names,range(n)))\n",
        "column_names = list(map(str, range(1, n+1)))\n",
        "column_map = dict(zip(column_names, range(n)))\n",
        "\n",
        "player = 1\n",
        "\n",
        "\n",
        "def parse_location(l_string):\n",
        "    if not isinstance(l_string,str):\n",
        "        print(\"Bad Input. Location must be string.\")\n",
        "        return False\n",
        "\n",
        "    if len(l_string)!=2:\n",
        "        print(\"Bad Input. Location must be 2 characters.\")\n",
        "        return False\n",
        "\n",
        "    row=l_string[0].upper()\n",
        "    col=l_string[1].upper()\n",
        "\n",
        "    if not row in row_names:\n",
        "        print(\"Bad Row.\")\n",
        "        return False\n",
        "\n",
        "    if not col in column_names:\n",
        "        print(\"Bad Column.\")\n",
        "        return False\n",
        "\n",
        "    return row_map[row],column_map[col]\n",
        "\n",
        "def create_game_board(myBoard,location):\n",
        "    print(\"Please enter a valid player number of 1 or 2.\")\n",
        "    playerflag = False\n",
        "    while playerflag == False:\n",
        "        next_player = input(str)\n",
        "        if next_player == \"1\":\n",
        "            piece = \"X\"\n",
        "            playerflag = True\n",
        "        elif next_player == \"2\":\n",
        "            piece = \"O\"\n",
        "            playerflag = True\n",
        "        else:\n",
        "            print(\"Invalid player. Re-enter a valid player number.\")\n",
        "\n",
        "    parse_location(location)\n",
        "    R,C = location\n",
        "    x = row_map[R]\n",
        "    y = column_map[C]\n",
        "\n",
        "\n",
        "    print(\"Player\", next_player, \"turn:\")\n",
        "    if myBoard[x][y]==\" \":\n",
        "        my_turn = True\n",
        "        myBoard[x][y] = piece\n",
        "    else:\n",
        "        my_turn = False\n",
        "\n",
        "    print(\"  \",end=\" \")\n",
        "    for j in range(n):\n",
        "        print(column_names[j],\"  \", end=\" \")\n",
        "\n",
        "    for i in range(n):\n",
        "        print(\"\\n\", end=\"\")\n",
        "        print(\"  ---\" * n)\n",
        "        print(row_names[i],end=\"\")\n",
        "\n",
        "        for j in range(n):\n",
        "            print(\" |\", end=\"\")\n",
        "            print(myBoard[i][j], end= \"| \" )\n",
        "    print(\"\\n\", end=\"\")\n",
        "    print(\"  ---\" * n)\n",
        "    if my_turn:\n",
        "        print(\"Successful turn\")\n",
        "    else:\n",
        "        print(\"Invalid move\")\n",
        "    return(my_turn)"
      ]
    },
    {
      "cell_type": "code",
      "execution_count": 26,
      "metadata": {
        "collapsed": true,
        "id": "_3qC5_iX45Xb",
        "colab": {
          "base_uri": "https://localhost:8080/"
        },
        "outputId": "58dd4630-1885-42d9-ba50-700f6400cdda"
      },
      "outputs": [
        {
          "output_type": "stream",
          "name": "stdout",
          "text": [
            "Please enter a valid player number of 1 or 2.\n",
            "<class 'str'>1\n",
            "Player 1 turn:\n",
            "   1    2    3    \n",
            "  ---  ---  ---\n",
            "A |X|  | |  |O| \n",
            "  ---  ---  ---\n",
            "B | |  | |  | | \n",
            "  ---  ---  ---\n",
            "C | |  | |  | | \n",
            "  ---  ---  ---\n",
            "Successful turn\n"
          ]
        }
      ],
      "source": [
        "board_0 = create_game_board(winner_is_2, \"A1\")"
      ]
    },
    {
      "cell_type": "markdown",
      "metadata": {
        "id": "F_Ozk4WT45Xb"
      },
      "source": [
        "*Exercise 9:* Use all of the previous exercises to implement a full tic-tac-toe game, where an appropriate board is drawn, 2 players are repeatedly asked for a location coordinates of where they wish to place a mark, and the game status is checked until a player wins or a draw occurs."
      ]
    },
    {
      "cell_type": "code",
      "execution_count": 27,
      "metadata": {
        "collapsed": true,
        "id": "cPTiwbdy45Xb"
      },
      "outputs": [],
      "source": [
        "n = 3\n",
        "land = [[\" \" for _ in range(n)] for _ in range(n)]\n",
        "\n",
        "row_names = list(\"ABCDEFGHIJKLMNOPQRSTUVWXYZ\")\n",
        "row_map = dict(zip(row_names, range(n)))\n",
        "column_names = list(map(str, range(1, n + 1)))\n",
        "column_map = dict(zip(column_names, range(n)))\n",
        "\n",
        "def parse_location(l_string):\n",
        "    if not isinstance(l_string, str):\n",
        "        print(\"Bad Input. Location must be string.\")\n",
        "        return False\n",
        "\n",
        "    if len(l_string) != 2:\n",
        "        print(\"Bad Input. Location must be 2 characters.\")\n",
        "        return False\n",
        "\n",
        "    row = l_string[0].upper()\n",
        "    col = l_string[1].upper()\n",
        "\n",
        "    if row not in row_names:\n",
        "        print(\"Bad Row.\")\n",
        "        return False\n",
        "\n",
        "    if col not in column_names:\n",
        "        print(\"Bad Column.\")\n",
        "        return False\n",
        "\n",
        "    return row_map[row], column_map[col]\n",
        "\n",
        "def print_land(mine):\n",
        "    print(\"  \",end=\" \")\n",
        "    for j in range(n):\n",
        "        print(column_names[j],\"  \", end=\" \")\n",
        "\n",
        "    for i in range(n):\n",
        "        print(\"\\n\", end=\"\")\n",
        "        print(\"  ---\" * n)\n",
        "        print(row_names[i],end=\"\")\n",
        "\n",
        "        for j in range(n):\n",
        "            print(\" |\", end=\"\")\n",
        "            print(mine[i][j], end= \"| \" )\n",
        "    print(\"\\n\", end=\"\")\n",
        "    print(\"  ---\" * n)\n",
        "\n",
        "def check_winner(land, player):\n",
        "    for row in land:\n",
        "        if all(cell == player for cell in row):\n",
        "            return True\n",
        "\n",
        "    for col in range(n):\n",
        "        if all(land[row][col] == player for row in range(n)):\n",
        "            return True\n",
        "\n",
        "    if all(land[i][i] == player for i in range(n)) or \\\n",
        "       all(land[i][n - 1 - i] == player for i in range(n)):\n",
        "        return True\n",
        "\n",
        "    return False\n",
        "\n",
        "def check_draw(land):\n",
        "    for row in land:\n",
        "        if \" \" in row:\n",
        "            return False\n",
        "    return True\n",
        "\n",
        "def create_game_land():\n",
        "    player = \"X\"\n",
        "    while True:\n",
        "        print_land(land)\n",
        "        print(f\"Player {player}'s turn:\")\n",
        "        location = input(\"Enter your move: \")\n",
        "        if parse_location(location):\n",
        "            row, col = parse_location(location)\n",
        "        else:\n",
        "            continue\n",
        "        if row is None or col is None or land[row][col] != \" \":\n",
        "            print(\"Invalid move. Try again.\")\n",
        "            continue\n",
        "        land[row][col] = player\n",
        "        if check_winner(land, player):\n",
        "            print_land(land)\n",
        "            print(f\"Player {player} wins!\")\n",
        "            break\n",
        "        if check_draw(land):\n",
        "            print_land(land)\n",
        "            print(\"It's a draw!\")\n",
        "            break\n",
        "        player = \"O\" if player == \"X\" else \"X\""
      ]
    },
    {
      "cell_type": "code",
      "execution_count": 29,
      "metadata": {
        "collapsed": true,
        "id": "8SaHeuqF45Xb",
        "colab": {
          "base_uri": "https://localhost:8080/"
        },
        "outputId": "e8382a29-f46a-497c-a7c2-bea3f294c330"
      },
      "outputs": [
        {
          "output_type": "stream",
          "name": "stdout",
          "text": [
            "   1    2    3    \n",
            "  ---  ---  ---\n",
            "A | |  | |  | | \n",
            "  ---  ---  ---\n",
            "B | |  | |  | | \n",
            "  ---  ---  ---\n",
            "C | |  | |  | | \n",
            "  ---  ---  ---\n",
            "Player X's turn:\n",
            "Enter your move: a1\n",
            "   1    2    3    \n",
            "  ---  ---  ---\n",
            "A |X|  | |  | | \n",
            "  ---  ---  ---\n",
            "B | |  | |  | | \n",
            "  ---  ---  ---\n",
            "C | |  | |  | | \n",
            "  ---  ---  ---\n",
            "Player O's turn:\n",
            "Enter your move: a2\n",
            "   1    2    3    \n",
            "  ---  ---  ---\n",
            "A |X|  |O|  | | \n",
            "  ---  ---  ---\n",
            "B | |  | |  | | \n",
            "  ---  ---  ---\n",
            "C | |  | |  | | \n",
            "  ---  ---  ---\n",
            "Player X's turn:\n",
            "Enter your move: a3\n",
            "   1    2    3    \n",
            "  ---  ---  ---\n",
            "A |X|  |O|  |X| \n",
            "  ---  ---  ---\n",
            "B | |  | |  | | \n",
            "  ---  ---  ---\n",
            "C | |  | |  | | \n",
            "  ---  ---  ---\n",
            "Player O's turn:\n",
            "Enter your move: b1\n",
            "   1    2    3    \n",
            "  ---  ---  ---\n",
            "A |X|  |O|  |X| \n",
            "  ---  ---  ---\n",
            "B |O|  | |  | | \n",
            "  ---  ---  ---\n",
            "C | |  | |  | | \n",
            "  ---  ---  ---\n",
            "Player X's turn:\n",
            "Enter your move: b2\n",
            "   1    2    3    \n",
            "  ---  ---  ---\n",
            "A |X|  |O|  |X| \n",
            "  ---  ---  ---\n",
            "B |O|  |X|  | | \n",
            "  ---  ---  ---\n",
            "C | |  | |  | | \n",
            "  ---  ---  ---\n",
            "Player O's turn:\n",
            "Enter your move: b3\n",
            "   1    2    3    \n",
            "  ---  ---  ---\n",
            "A |X|  |O|  |X| \n",
            "  ---  ---  ---\n",
            "B |O|  |X|  |O| \n",
            "  ---  ---  ---\n",
            "C | |  | |  | | \n",
            "  ---  ---  ---\n",
            "Player X's turn:\n",
            "Enter your move: c1\n",
            "   1    2    3    \n",
            "  ---  ---  ---\n",
            "A |X|  |O|  |X| \n",
            "  ---  ---  ---\n",
            "B |O|  |X|  |O| \n",
            "  ---  ---  ---\n",
            "C |X|  | |  | | \n",
            "  ---  ---  ---\n",
            "Player X wins!\n"
          ]
        }
      ],
      "source": [
        "create_game_land()"
      ]
    },
    {
      "cell_type": "markdown",
      "metadata": {
        "id": "qiMcz18T45Xc"
      },
      "source": [
        "*Exercise 10:* Test that your game works for 5x5 Tic Tac Toe.  "
      ]
    },
    {
      "cell_type": "code",
      "execution_count": 30,
      "metadata": {
        "collapsed": true,
        "id": "wFYQ893x45Xc",
        "colab": {
          "base_uri": "https://localhost:8080/"
        },
        "outputId": "af7414d4-8b64-4b77-d55a-d18263efe41e"
      },
      "outputs": [
        {
          "output_type": "stream",
          "name": "stdout",
          "text": [
            "   1    2    3    4    5    \n",
            "  ---  ---  ---  ---  ---\n",
            "A | |  | |  | |  | |  | | \n",
            "  ---  ---  ---  ---  ---\n",
            "B | |  | |  | |  | |  | | \n",
            "  ---  ---  ---  ---  ---\n",
            "C | |  | |  | |  | |  | | \n",
            "  ---  ---  ---  ---  ---\n",
            "D | |  | |  | |  | |  | | \n",
            "  ---  ---  ---  ---  ---\n",
            "E | |  | |  | |  | |  | | \n",
            "  ---  ---  ---  ---  ---\n",
            "Player X's turn:\n",
            "Enter your move: a1\n",
            "   1    2    3    4    5    \n",
            "  ---  ---  ---  ---  ---\n",
            "A |X|  | |  | |  | |  | | \n",
            "  ---  ---  ---  ---  ---\n",
            "B | |  | |  | |  | |  | | \n",
            "  ---  ---  ---  ---  ---\n",
            "C | |  | |  | |  | |  | | \n",
            "  ---  ---  ---  ---  ---\n",
            "D | |  | |  | |  | |  | | \n",
            "  ---  ---  ---  ---  ---\n",
            "E | |  | |  | |  | |  | | \n",
            "  ---  ---  ---  ---  ---\n",
            "Player O's turn:\n",
            "Enter your move: a2\n",
            "   1    2    3    4    5    \n",
            "  ---  ---  ---  ---  ---\n",
            "A |X|  |O|  | |  | |  | | \n",
            "  ---  ---  ---  ---  ---\n",
            "B | |  | |  | |  | |  | | \n",
            "  ---  ---  ---  ---  ---\n",
            "C | |  | |  | |  | |  | | \n",
            "  ---  ---  ---  ---  ---\n",
            "D | |  | |  | |  | |  | | \n",
            "  ---  ---  ---  ---  ---\n",
            "E | |  | |  | |  | |  | | \n",
            "  ---  ---  ---  ---  ---\n",
            "Player X's turn:\n",
            "Enter your move: b2\n",
            "   1    2    3    4    5    \n",
            "  ---  ---  ---  ---  ---\n",
            "A |X|  |O|  | |  | |  | | \n",
            "  ---  ---  ---  ---  ---\n",
            "B | |  |X|  | |  | |  | | \n",
            "  ---  ---  ---  ---  ---\n",
            "C | |  | |  | |  | |  | | \n",
            "  ---  ---  ---  ---  ---\n",
            "D | |  | |  | |  | |  | | \n",
            "  ---  ---  ---  ---  ---\n",
            "E | |  | |  | |  | |  | | \n",
            "  ---  ---  ---  ---  ---\n",
            "Player O's turn:\n",
            "Enter your move: b1\n",
            "   1    2    3    4    5    \n",
            "  ---  ---  ---  ---  ---\n",
            "A |X|  |O|  | |  | |  | | \n",
            "  ---  ---  ---  ---  ---\n",
            "B |O|  |X|  | |  | |  | | \n",
            "  ---  ---  ---  ---  ---\n",
            "C | |  | |  | |  | |  | | \n",
            "  ---  ---  ---  ---  ---\n",
            "D | |  | |  | |  | |  | | \n",
            "  ---  ---  ---  ---  ---\n",
            "E | |  | |  | |  | |  | | \n",
            "  ---  ---  ---  ---  ---\n",
            "Player X's turn:\n",
            "Enter your move: c3\n",
            "   1    2    3    4    5    \n",
            "  ---  ---  ---  ---  ---\n",
            "A |X|  |O|  | |  | |  | | \n",
            "  ---  ---  ---  ---  ---\n",
            "B |O|  |X|  | |  | |  | | \n",
            "  ---  ---  ---  ---  ---\n",
            "C | |  | |  |X|  | |  | | \n",
            "  ---  ---  ---  ---  ---\n",
            "D | |  | |  | |  | |  | | \n",
            "  ---  ---  ---  ---  ---\n",
            "E | |  | |  | |  | |  | | \n",
            "  ---  ---  ---  ---  ---\n",
            "Player O's turn:\n",
            "Enter your move: c1\n",
            "   1    2    3    4    5    \n",
            "  ---  ---  ---  ---  ---\n",
            "A |X|  |O|  | |  | |  | | \n",
            "  ---  ---  ---  ---  ---\n",
            "B |O|  |X|  | |  | |  | | \n",
            "  ---  ---  ---  ---  ---\n",
            "C |O|  | |  |X|  | |  | | \n",
            "  ---  ---  ---  ---  ---\n",
            "D | |  | |  | |  | |  | | \n",
            "  ---  ---  ---  ---  ---\n",
            "E | |  | |  | |  | |  | | \n",
            "  ---  ---  ---  ---  ---\n",
            "Player X's turn:\n",
            "Enter your move: d4\n",
            "   1    2    3    4    5    \n",
            "  ---  ---  ---  ---  ---\n",
            "A |X|  |O|  | |  | |  | | \n",
            "  ---  ---  ---  ---  ---\n",
            "B |O|  |X|  | |  | |  | | \n",
            "  ---  ---  ---  ---  ---\n",
            "C |O|  | |  |X|  | |  | | \n",
            "  ---  ---  ---  ---  ---\n",
            "D | |  | |  | |  |X|  | | \n",
            "  ---  ---  ---  ---  ---\n",
            "E | |  | |  | |  | |  | | \n",
            "  ---  ---  ---  ---  ---\n",
            "Player O's turn:\n",
            "Enter your move: d1\n",
            "   1    2    3    4    5    \n",
            "  ---  ---  ---  ---  ---\n",
            "A |X|  |O|  | |  | |  | | \n",
            "  ---  ---  ---  ---  ---\n",
            "B |O|  |X|  | |  | |  | | \n",
            "  ---  ---  ---  ---  ---\n",
            "C |O|  | |  |X|  | |  | | \n",
            "  ---  ---  ---  ---  ---\n",
            "D |O|  | |  | |  |X|  | | \n",
            "  ---  ---  ---  ---  ---\n",
            "E | |  | |  | |  | |  | | \n",
            "  ---  ---  ---  ---  ---\n",
            "Player X's turn:\n",
            "Enter your move: e5\n",
            "   1    2    3    4    5    \n",
            "  ---  ---  ---  ---  ---\n",
            "A |X|  |O|  | |  | |  | | \n",
            "  ---  ---  ---  ---  ---\n",
            "B |O|  |X|  | |  | |  | | \n",
            "  ---  ---  ---  ---  ---\n",
            "C |O|  | |  |X|  | |  | | \n",
            "  ---  ---  ---  ---  ---\n",
            "D |O|  | |  | |  |X|  | | \n",
            "  ---  ---  ---  ---  ---\n",
            "E | |  | |  | |  | |  |X| \n",
            "  ---  ---  ---  ---  ---\n",
            "Player X wins!\n"
          ]
        }
      ],
      "source": [
        "n = 5\n",
        "land = [[\" \" for _ in range(n)] for _ in range(n)]\n",
        "\n",
        "row_names = list(\"ABCDEFGHIJKLMNOPQRSTUVWXYZ\")\n",
        "row_map = dict(zip(row_names, range(n)))\n",
        "column_names = list(map(str, range(1, n + 1)))\n",
        "column_map = dict(zip(column_names, range(n)))\n",
        "\n",
        "def parse_location(l_string):\n",
        "    if not isinstance(l_string, str):\n",
        "        print(\"Bad Input. Location must be string.\")\n",
        "        return False\n",
        "\n",
        "    if len(l_string) != 2:\n",
        "        print(\"Bad Input. Location must be 2 characters.\")\n",
        "        return False\n",
        "\n",
        "    row = l_string[0].upper()\n",
        "    col = l_string[1].upper()\n",
        "\n",
        "    if row not in row_names:\n",
        "        print(\"Bad Row.\")\n",
        "        return False\n",
        "\n",
        "    if col not in column_names:\n",
        "        print(\"Bad Column.\")\n",
        "        return False\n",
        "\n",
        "    return row_map[row], column_map[col]\n",
        "\n",
        "def print_land(mine):\n",
        "    print(\"  \",end=\" \")\n",
        "    for j in range(n):\n",
        "        print(column_names[j],\"  \", end=\" \")\n",
        "\n",
        "    for i in range(n):\n",
        "        print(\"\\n\", end=\"\")\n",
        "        print(\"  ---\" * n)\n",
        "        print(row_names[i],end=\"\")\n",
        "\n",
        "        for j in range(n):\n",
        "            print(\" |\", end=\"\")\n",
        "            print(mine[i][j], end= \"| \" )\n",
        "    print(\"\\n\", end=\"\")\n",
        "    print(\"  ---\" * n)\n",
        "\n",
        "def check_winner(land, player):\n",
        "    for row in land:\n",
        "        if all(cell == player for cell in row):\n",
        "            return True\n",
        "\n",
        "    for col in range(n):\n",
        "        if all(land[row][col] == player for row in range(n)):\n",
        "            return True\n",
        "\n",
        "    if all(land[i][i] == player for i in range(n)) or \\\n",
        "       all(land[i][n - 1 - i] == player for i in range(n)):\n",
        "        return True\n",
        "\n",
        "    return False\n",
        "\n",
        "def check_draw(land):\n",
        "    for row in land:\n",
        "        if \" \" in row:\n",
        "            return False\n",
        "    return True\n",
        "\n",
        "def create_game_land():\n",
        "    player = \"X\"\n",
        "    while True:\n",
        "        print_land(land)\n",
        "        print(f\"Player {player}'s turn:\")\n",
        "        location = input(\"Enter your move: \")\n",
        "        if parse_location(location):\n",
        "            row, col = parse_location(location)\n",
        "        else:\n",
        "            continue\n",
        "        if row is None or col is None or land[row][col] != \" \":\n",
        "            print(\"Invalid move. Try again.\")\n",
        "            continue\n",
        "        land[row][col] = player\n",
        "        if check_winner(land, player):\n",
        "            print_land(land)\n",
        "            print(f\"Player {player} wins!\")\n",
        "            break\n",
        "        if check_draw(land):\n",
        "            print_land(land)\n",
        "            print(\"It's a draw!\")\n",
        "            break\n",
        "        player = \"O\" if player == \"X\" else \"X\"\n",
        "\n",
        "create_game_land()"
      ]
    },
    {
      "cell_type": "markdown",
      "metadata": {
        "id": "OE_iYHBg45Xc"
      },
      "source": [
        "*Exercise 11:* (Advanced / Challenge) Develop a version of the game where one player is the computer. Note that you don't need to do an extensive seach for the best move. You can have the computer simply protect against loosing and otherwise try to win with straight or diagonal patterns."
      ]
    },
    {
      "cell_type": "code",
      "execution_count": null,
      "metadata": {
        "collapsed": true,
        "id": "viUFOo5845Xc"
      },
      "outputs": [],
      "source": [
        "# Write you solution here"
      ]
    },
    {
      "cell_type": "code",
      "execution_count": null,
      "metadata": {
        "collapsed": true,
        "id": "3xJJsQ2045Xd"
      },
      "outputs": [],
      "source": [
        "# Test your solution here"
      ]
    }
  ],
  "metadata": {
    "kernelspec": {
      "display_name": "Python 3 (ipykernel)",
      "language": "python",
      "name": "python3"
    },
    "language_info": {
      "codemirror_mode": {
        "name": "ipython",
        "version": 3
      },
      "file_extension": ".py",
      "mimetype": "text/x-python",
      "name": "python",
      "nbconvert_exporter": "python",
      "pygments_lexer": "ipython3",
      "version": "3.9.6"
    },
    "colab": {
      "provenance": []
    }
  },
  "nbformat": 4,
  "nbformat_minor": 0
}