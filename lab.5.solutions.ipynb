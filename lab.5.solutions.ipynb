{
  "cells": [
    {
      "cell_type": "markdown",
      "metadata": {
        "id": "gtpgHfpOyWRm"
      },
      "source": [
        "# Lab 5\n"
      ]
    },
    {
      "cell_type": "markdown",
      "metadata": {
        "id": "jaOgWPivyWRp"
      },
      "source": [
        "Matrix Representation: In this lab you will be creating a simple linear algebra system. In memory, we will represent matrices as nested python lists as we have done in lecture. In the exercises below, you are required to explicitly test every feature you implement, demonstrating it works.\n",
        "\n",
        "1. Create a `matrix` class with the following properties:\n",
        "    * It can be initialized in 2 ways:\n",
        "        1. with arguments `n` and `m`, the size of the matrix. A newly instanciated matrix will contain all zeros.\n",
        "        2. with a list of lists of values. Note that since we are using lists of lists to implement matrices, it is possible that not all rows have the same number of columns. Test explicitly that the matrix is properly specified.\n",
        "    * Matrix instances `M` can be indexed with `M[i][j]` and `M[i,j]`.\n",
        "    * Matrix assignment works in 2 ways:\n",
        "        1. If `M_1` and `M_2` are `matrix` instances `M_1=M_2` sets the values of `M_1` to those of `M_2`, if they are the same size. Error otherwise.\n",
        "        2. In example above `M_2` can be a list of lists of correct size.\n"
      ]
    },
    {
      "cell_type": "code",
      "source": [
        "class Matrix:\n",
        "    def __init__(self, n=None, m=None, values=None):\n",
        "        if values:\n",
        "            # Initialize matrix with list of lists\n",
        "            self.matrix = values\n",
        "            self.n = len(values)\n",
        "            self.m = len(values[0]) if self.n > 0 else 0\n",
        "            for row in values:\n",
        "                if len(row) != self.m:\n",
        "                    raise ValueError(\"All rows must have the same number of columns\")\n",
        "        else:\n",
        "            # Initialize matrix with n x m zeros\n",
        "            self.n = n\n",
        "            self.m = m\n",
        "            self.matrix = [[0 for _ in range(m)] for _ in range(n)]\n",
        "\n",
        "    def __getitem__(self, index):\n",
        "        if isinstance(index, tuple):\n",
        "            i, j = index\n",
        "            return self.matrix[i][j]\n",
        "        else:\n",
        "            return self.matrix[index]\n",
        "\n",
        "    def __setitem__(self, index, value):\n",
        "        if isinstance(index, tuple):\n",
        "            i, j = index\n",
        "            self.matrix[i][j] = value\n",
        "        else:\n",
        "            self.matrix[index] = value\n",
        "\n",
        "    def __repr__(self):\n",
        "        return '\\n'.join([' '.join(map(str, row)) for row in self.matrix])\n",
        "\n",
        "# Example testing\n",
        "M1 = Matrix(3, 3)  # 3x3 zero matrix\n",
        "M2 = Matrix(values=[[1, 2], [3, 4], [5, 6]])  # Initialize with values\n",
        "\n",
        "print(\"Matrix M1:\")\n",
        "print(M1)\n",
        "\n",
        "print(\"\\nMatrix M2:\")\n",
        "print(M2)"
      ],
      "metadata": {
        "colab": {
          "base_uri": "https://localhost:8080/"
        },
        "id": "kAkyK9A40u0q",
        "outputId": "f62edc59-059c-49cf-b91c-e182a623e8d7"
      },
      "execution_count": null,
      "outputs": [
        {
          "output_type": "stream",
          "name": "stdout",
          "text": [
            "Matrix M1:\n",
            "0 0 0\n",
            "0 0 0\n",
            "0 0 0\n",
            "\n",
            "Matrix M2:\n",
            "1 2\n",
            "3 4\n",
            "5 6\n"
          ]
        }
      ]
    },
    {
      "cell_type": "markdown",
      "metadata": {
        "id": "zdBDlKChyWRq"
      },
      "source": [
        "2. Add the following methods:\n",
        "    * `shape()`: returns a tuple `(n,m)` of the shape of the matrix.\n",
        "    * `transpose()`: returns a new matrix instance which is the transpose of the matrix.\n",
        "    * `row(n)` and `column(n)`: that return the nth row or column of the matrix M as a new appropriately shaped matrix object.\n",
        "    * `to_list()`: which returns the matrix as a list of lists.\n",
        "    *  `block(n_0,n_1,m_0,m_1)` that returns a smaller matrix located at the n_0 to n_1 columns and m_0 to m_1 rows.\n",
        "    * (Extra credit) Modify `__getitem__` implemented above to support slicing."
      ]
    },
    {
      "cell_type": "code",
      "source": [
        "class Matrix(Matrix):\n",
        "    def shape(self):\n",
        "        return (self.n, self.m)\n",
        "\n",
        "    def transpose(self):\n",
        "        transposed = [[self.matrix[j][i] for j in range(self.n)] for i in range(self.m)]\n",
        "        return Matrix(values=transposed)\n",
        "\n",
        "    def row(self, n):\n",
        "        return Matrix(values=[self.matrix[n]])\n",
        "\n",
        "    def column(self, m):\n",
        "        return Matrix(values=[[self.matrix[i][m]] for i in range(self.n)])\n",
        "\n",
        "    def to_list(self):\n",
        "        return self.matrix\n",
        "\n",
        "    def block(self, n_0, n_1, m_0, m_1):\n",
        "        submatrix = [row[m_0:m_1] for row in self.matrix[n_0:n_1]]\n",
        "        return Matrix(values=submatrix)\n",
        "\n",
        "# Example testing\n",
        "M3 = Matrix(values=[[1, 2, 3], [4, 5, 6], [7, 8, 9]])\n",
        "print(\"\\nShape of M3:\", M3.shape())\n",
        "print(\"\\nTranspose of M3:\")\n",
        "print(M3.transpose())\n",
        "\n",
        "print(\"\\nRow 1 of M3:\")\n",
        "print(M3.row(1))\n",
        "\n",
        "print(\"\\nColumn 2 of M3:\")\n",
        "print(M3.column(2))\n",
        "\n",
        "print(\"\\nBlock of M3 (0,2,0,2):\")\n",
        "print(M3.block(0, 2, 0, 2))"
      ],
      "metadata": {
        "colab": {
          "base_uri": "https://localhost:8080/"
        },
        "id": "SbZByGrr0sfS",
        "outputId": "b251947d-4b24-4117-d7e1-56d02b30be0e"
      },
      "execution_count": null,
      "outputs": [
        {
          "output_type": "stream",
          "name": "stdout",
          "text": [
            "\n",
            "Shape of M3: (3, 3)\n",
            "\n",
            "Transpose of M3:\n",
            "1 4 7\n",
            "2 5 8\n",
            "3 6 9\n",
            "\n",
            "Row 1 of M3:\n",
            "4 5 6\n",
            "\n",
            "Column 2 of M3:\n",
            "3\n",
            "6\n",
            "9\n",
            "\n",
            "Block of M3 (0,2,0,2):\n",
            "1 2\n",
            "4 5\n"
          ]
        }
      ]
    },
    {
      "cell_type": "markdown",
      "metadata": {
        "id": "6fLU9-cJyWRr"
      },
      "source": [
        "3. Write functions that create special matrices (note these are standalone functions, not member functions of your `matrix` class):\n",
        "    * `constant(n,m,c)`: returns a `n` by `m` matrix filled with floats of value `c`.\n",
        "    * `zeros(n,m)` and `ones(n,m)`: return `n` by `m` matrices filled with floats of value `0` and `1`, respectively.\n",
        "    * `eye(n)`: returns the n by n identity matrix."
      ]
    },
    {
      "cell_type": "code",
      "source": [
        "def constant(n, m, c):\n",
        "    return Matrix(values=[[c for _ in range(m)] for _ in range(n)])\n",
        "\n",
        "def zeros(n, m):\n",
        "    return Matrix(n, m)\n",
        "\n",
        "def ones(n, m):\n",
        "    return Matrix(values=[[1 for _ in range(m)] for _ in range(n)])\n",
        "\n",
        "def eye(n):\n",
        "    return Matrix(values=[[1 if i == j else 0 for j in range(n)] for i in range(n)])\n",
        "\n",
        "# Example testing of special matrices\n",
        "print(\"\\nConstant matrix (3x2) filled with 7:\")\n",
        "print(constant(3, 2, 7))\n",
        "\n",
        "print(\"\\nZeros matrix (3x3):\")\n",
        "print(zeros(3, 3))\n",
        "\n",
        "print(\"\\nOnes matrix (2x2):\")\n",
        "print(ones(2, 2))\n",
        "\n",
        "print(\"\\nIdentity matrix (3x3):\")\n",
        "print(eye(3))"
      ],
      "metadata": {
        "colab": {
          "base_uri": "https://localhost:8080/"
        },
        "id": "1tDZc48v0wTj",
        "outputId": "5b44bd09-7c76-4722-c214-02ff8e5afb99"
      },
      "execution_count": null,
      "outputs": [
        {
          "output_type": "stream",
          "name": "stdout",
          "text": [
            "\n",
            "Constant matrix (3x2) filled with 7:\n",
            "7 7\n",
            "7 7\n",
            "7 7\n",
            "\n",
            "Zeros matrix (3x3):\n",
            "0 0 0\n",
            "0 0 0\n",
            "0 0 0\n",
            "\n",
            "Ones matrix (2x2):\n",
            "1 1\n",
            "1 1\n",
            "\n",
            "Identity matrix (3x3):\n",
            "1 0 0\n",
            "0 1 0\n",
            "0 0 1\n"
          ]
        }
      ]
    },
    {
      "cell_type": "markdown",
      "metadata": {
        "id": "OF8DLA7RyWRr"
      },
      "source": [
        "4. Add the following member functions to your class. Make sure to appropriately test the dimensions of the matrices to make sure the operations are correct.\n",
        "    * `M.scalarmul(c)`: a matrix that is scalar product $cM$, where every element of $M$ is multiplied by $c$.\n",
        "    * `M.add(N)`: adds two matrices $M$ and $N$. Don’t forget to test that the sizes of the matrices are compatible for this and all other operations.\n",
        "    * `M.sub(N)`: subtracts two matrices $M$ and $N$.\n",
        "    * `M.mat_mult(N)`: returns a matrix that is the matrix product of two matrices $M$ and $N$.\n",
        "    * `M.element_mult(N)`: returns a matrix that is the element-wise product of two matrices $M$ and $N$.\n",
        "    * `M.equals(N)`: returns true/false if $M==N$."
      ]
    },
    {
      "cell_type": "code",
      "source": [
        "class Matrix(Matrix):\n",
        "    def scalarmul(self, c):\n",
        "        return Matrix(values=[[c * self.matrix[i][j] for j in range(self.m)] for i in range(self.n)])\n",
        "\n",
        "    def add(self, N):\n",
        "        if self.shape() != N.shape():\n",
        "            raise ValueError(\"Matrices must have the same shape to add\")\n",
        "        return Matrix(values=[[self.matrix[i][j] + N[i, j] for j in range(self.m)] for i in range(self.n)])\n",
        "\n",
        "    def sub(self, N):\n",
        "        if self.shape() != N.shape():\n",
        "            raise ValueError(\"Matrices must have the same shape to subtract\")\n",
        "        return Matrix(values=[[self.matrix[i][j] - N[i, j] for j in range(self.m)] for i in range(self.n)])\n",
        "\n",
        "    def mat_mult(self, N):\n",
        "        if self.m != N.n:\n",
        "            raise ValueError(\"Number of columns of A must match the number of rows of B for matrix multiplication\")\n",
        "        result = [[sum(self.matrix[i][k] * N[k, j] for k in range(self.m)) for j in range(N.m)] for i in range(self.n)]\n",
        "        return Matrix(values=result)\n",
        "\n",
        "    def element_mult(self, N):\n",
        "        if self.shape() != N.shape():\n",
        "            raise ValueError(\"Matrices must have the same shape for element-wise multiplication\")\n",
        "        return Matrix(values=[[self.matrix[i][j] * N[i, j] for j in range(self.m)] for i in range(self.n)])\n",
        "\n",
        "    def equals(self, N):\n",
        "        return self.shape() == N.shape() and all(self.matrix[i][j] == N[i, j] for i in range(self.n) for j in range(self.m))\n",
        "\n",
        "# Example testing\n",
        "M3 = Matrix(values=[[1, 2], [3, 4]])\n",
        "M4 = Matrix(values=[[2, 0], [1, 2]])\n",
        "\n",
        "# Scalar multiplication\n",
        "print(\"\\n2 * M3:\")\n",
        "print(M3.scalarmul(2))\n",
        "\n",
        "# Matrix addition\n",
        "print(\"\\nM3 + M4:\")\n",
        "print(M3.add(M4))\n",
        "\n",
        "# Matrix multiplication\n",
        "print(\"\\nM3 * M4:\")\n",
        "print(M3.mat_mult(M4))"
      ],
      "metadata": {
        "colab": {
          "base_uri": "https://localhost:8080/"
        },
        "id": "RPjalReU0xlm",
        "outputId": "b1e5a3cf-4967-41fc-aa77-128f9f5c1a3f"
      },
      "execution_count": null,
      "outputs": [
        {
          "output_type": "stream",
          "name": "stdout",
          "text": [
            "\n",
            "2 * M3:\n",
            "2 4\n",
            "6 8\n",
            "\n",
            "M3 + M4:\n",
            "3 2\n",
            "4 6\n",
            "\n",
            "M3 * M4:\n",
            "4 4\n",
            "10 8\n"
          ]
        }
      ]
    },
    {
      "cell_type": "markdown",
      "metadata": {
        "id": "KJ36CcVfyWRs"
      },
      "source": [
        "5. Overload python operators to appropriately use your functions in 4 and allow expressions like:\n",
        "    * 2*M\n",
        "    * M*2\n",
        "    * M+N\n",
        "    * M-N\n",
        "    * M*N\n",
        "    * M==N\n",
        "    * M=N\n"
      ]
    },
    {
      "cell_type": "code",
      "source": [
        "class Matrix(Matrix):\n",
        "    def __mul__(self, other):\n",
        "        if isinstance(other, (int, float)):  # Scalar multiplication\n",
        "            return self.scalarmul(other)\n",
        "        elif isinstance(other, Matrix):  # Matrix multiplication\n",
        "            return self.mat_mult(other)\n",
        "        else:\n",
        "            raise ValueError(\"Unsupported operand type for *\")\n",
        "\n",
        "    def __rmul__(self, other):\n",
        "        return self.__mul__(other)\n",
        "\n",
        "    def __add__(self, other):\n",
        "        return self.add(other)\n",
        "\n",
        "    def __sub__(self, other):\n",
        "        return self.sub(other)\n",
        "\n",
        "    def __eq__(self, other):\n",
        "        return self.equals(other)\n",
        "\n",
        "# Example testing of overloaded operators\n",
        "M5 = Matrix(values=[[1, 2], [3, 4]])\n",
        "M6 = Matrix(values=[[2, 0], [1, 2]])\n",
        "\n",
        "print(\"\\n2 * M5:\")\n",
        "print(2 * M5)\n",
        "\n",
        "print(\"\\nM5 + M6:\")\n",
        "print(M5 + M6)\n",
        "\n",
        "print(\"\\nM5 * M6 (matrix multiplication):\")\n",
        "print(M5 * M6)"
      ],
      "metadata": {
        "colab": {
          "base_uri": "https://localhost:8080/"
        },
        "id": "9hhmHCsX01mL",
        "outputId": "fe47f663-0dc7-4ac1-d5a6-614b0fba94f0"
      },
      "execution_count": null,
      "outputs": [
        {
          "output_type": "stream",
          "name": "stdout",
          "text": [
            "\n",
            "2 * M5:\n",
            "2 4\n",
            "6 8\n",
            "\n",
            "M5 + M6:\n",
            "3 2\n",
            "4 6\n",
            "\n",
            "M5 * M6 (matrix multiplication):\n",
            "4 4\n",
            "10 8\n"
          ]
        }
      ]
    },
    {
      "cell_type": "markdown",
      "metadata": {
        "id": "YxYMMSqeyWRt"
      },
      "source": [
        "6. Demonstrate the basic properties of matrices with your matrix class by creating two 2 by 2 example matrices using your Matrix class and illustrating the following:\n",
        "\n",
        "$$\n",
        "(AB)C=A(BC)\n",
        "$$\n",
        "$$\n",
        "A(B+C)=AB+AC\n",
        "$$\n",
        "$$\n",
        "AB\\neq BA\n",
        "$$\n",
        "$$\n",
        "AI=A\n",
        "$$"
      ]
    },
    {
      "cell_type": "code",
      "execution_count": null,
      "metadata": {
        "colab": {
          "base_uri": "https://localhost:8080/"
        },
        "id": "I-bjQPLqyWRt",
        "outputId": "625cf887-4b47-42e2-fbd8-8e85159cdfd7"
      },
      "outputs": [
        {
          "output_type": "stream",
          "name": "stdout",
          "text": [
            "\n",
            "(AB)C == A(BC): True\n",
            "\n",
            "A(B + C) == AB + AC: True\n",
            "\n",
            "AB != BA: True\n",
            "\n",
            "AI == A: True\n"
          ]
        }
      ],
      "source": [
        "# Demonstrate matrix properties\n",
        "A = Matrix(values=[[1, 2], [3, 4]])\n",
        "B = Matrix(values=[[0, 1], [1, 0]])\n",
        "C = Matrix(values=[[1, 1], [1, 1]])\n",
        "\n",
        "# Associative property: (AB)C = A(BC)\n",
        "AB = A * B\n",
        "BC = B * C\n",
        "print(\"\\n(AB)C == A(BC):\", (AB * C) == (A * BC))\n",
        "\n",
        "# Distributive property: A(B + C) = AB + AC\n",
        "print(\"\\nA(B + C) == AB + AC:\", A * (B + C) == (A * B + A * C))\n",
        "\n",
        "# Non-commutative property: AB ≠ BA\n",
        "print(\"\\nAB != BA:\", A * B != B * A)\n",
        "\n",
        "# Identity property: AI = A\n",
        "I = eye(2)\n",
        "print(\"\\nAI == A:\", A * I == A)"
      ]
    }
  ],
  "metadata": {
    "kernelspec": {
      "display_name": "Python 3 (ipykernel)",
      "language": "python",
      "name": "python3"
    },
    "language_info": {
      "codemirror_mode": {
        "name": "ipython",
        "version": 3
      },
      "file_extension": ".py",
      "mimetype": "text/x-python",
      "name": "python",
      "nbconvert_exporter": "python",
      "pygments_lexer": "ipython3",
      "version": "3.9.6"
    },
    "colab": {
      "provenance": []
    }
  },
  "nbformat": 4,
  "nbformat_minor": 0
}